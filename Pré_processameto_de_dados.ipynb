{
  "nbformat": 4,
  "nbformat_minor": 0,
  "metadata": {
    "colab": {
      "name": "Pré-processameto de dados.ipynb",
      "provenance": [],
      "collapsed_sections": [
        "4ue_XgIbu1x1",
        "pM1Ph5ogGBnM"
      ],
      "authorship_tag": "ABX9TyPAsvhgAj6jw5sVOXfCT7iY"
    },
    "kernelspec": {
      "name": "python3",
      "display_name": "Python 3"
    },
    "language_info": {
      "name": "python"
    }
  },
  "cells": [
    {
      "cell_type": "code",
      "metadata": {
        "id": "FdfzbiDscS2d"
      },
      "source": [
        "import numpy as np\n",
        "import pandas as pd"
      ],
      "execution_count": 17,
      "outputs": []
    },
    {
      "cell_type": "code",
      "metadata": {
        "id": "atfPJMQ6seA2"
      },
      "source": [
        "dataset = pd.read_csv(\"fake_data.csv\") #importando dataset"
      ],
      "execution_count": 18,
      "outputs": []
    },
    {
      "cell_type": "code",
      "metadata": {
        "colab": {
          "base_uri": "https://localhost:8080/",
          "height": 206
        },
        "id": "1ONh8RoZtJ3Z",
        "outputId": "ed9ba027-a587-48b9-aa1c-c32f83a70bda"
      },
      "source": [
        "dataset.head()"
      ],
      "execution_count": 19,
      "outputs": [
        {
          "output_type": "execute_result",
          "data": {
            "text/html": [
              "<div>\n",
              "<style scoped>\n",
              "    .dataframe tbody tr th:only-of-type {\n",
              "        vertical-align: middle;\n",
              "    }\n",
              "\n",
              "    .dataframe tbody tr th {\n",
              "        vertical-align: top;\n",
              "    }\n",
              "\n",
              "    .dataframe thead th {\n",
              "        text-align: right;\n",
              "    }\n",
              "</style>\n",
              "<table border=\"1\" class=\"dataframe\">\n",
              "  <thead>\n",
              "    <tr style=\"text-align: right;\">\n",
              "      <th></th>\n",
              "      <th>cargo</th>\n",
              "      <th>idade</th>\n",
              "      <th>salario</th>\n",
              "      <th>bonus</th>\n",
              "      <th>sócio</th>\n",
              "    </tr>\n",
              "  </thead>\n",
              "  <tbody>\n",
              "    <tr>\n",
              "      <th>0</th>\n",
              "      <td>Diretor</td>\n",
              "      <td>45</td>\n",
              "      <td>24000.0</td>\n",
              "      <td>10000.0</td>\n",
              "      <td>sim</td>\n",
              "    </tr>\n",
              "    <tr>\n",
              "      <th>1</th>\n",
              "      <td>Analista</td>\n",
              "      <td>22</td>\n",
              "      <td>8000.0</td>\n",
              "      <td>2000.0</td>\n",
              "      <td>não</td>\n",
              "    </tr>\n",
              "    <tr>\n",
              "      <th>2</th>\n",
              "      <td>Programador</td>\n",
              "      <td>30</td>\n",
              "      <td>NaN</td>\n",
              "      <td>1000.0</td>\n",
              "      <td>não</td>\n",
              "    </tr>\n",
              "    <tr>\n",
              "      <th>3</th>\n",
              "      <td>Gerente</td>\n",
              "      <td>24</td>\n",
              "      <td>15100.0</td>\n",
              "      <td>NaN</td>\n",
              "      <td>não</td>\n",
              "    </tr>\n",
              "    <tr>\n",
              "      <th>4</th>\n",
              "      <td>Gerente</td>\n",
              "      <td>30</td>\n",
              "      <td>35000.0</td>\n",
              "      <td>6000.0</td>\n",
              "      <td>sim</td>\n",
              "    </tr>\n",
              "  </tbody>\n",
              "</table>\n",
              "</div>"
            ],
            "text/plain": [
              "         cargo  idade  salario    bonus sócio\n",
              "0      Diretor     45  24000.0  10000.0   sim\n",
              "1     Analista     22   8000.0   2000.0   não\n",
              "2  Programador     30      NaN   1000.0   não\n",
              "3      Gerente     24  15100.0      NaN   não\n",
              "4      Gerente     30  35000.0   6000.0   sim"
            ]
          },
          "metadata": {},
          "execution_count": 19
        }
      ]
    },
    {
      "cell_type": "code",
      "metadata": {
        "colab": {
          "base_uri": "https://localhost:8080/",
          "height": 488
        },
        "id": "W6QeY19VtRxN",
        "outputId": "024c321e-d239-44bd-b6b1-df4fbe0385b8"
      },
      "source": [
        "dataset # Dataset simples com 14 linhas e 5 colunas, com variaveis numéricas faltando e variaveis categoricas."
      ],
      "execution_count": 20,
      "outputs": [
        {
          "output_type": "execute_result",
          "data": {
            "text/html": [
              "<div>\n",
              "<style scoped>\n",
              "    .dataframe tbody tr th:only-of-type {\n",
              "        vertical-align: middle;\n",
              "    }\n",
              "\n",
              "    .dataframe tbody tr th {\n",
              "        vertical-align: top;\n",
              "    }\n",
              "\n",
              "    .dataframe thead th {\n",
              "        text-align: right;\n",
              "    }\n",
              "</style>\n",
              "<table border=\"1\" class=\"dataframe\">\n",
              "  <thead>\n",
              "    <tr style=\"text-align: right;\">\n",
              "      <th></th>\n",
              "      <th>cargo</th>\n",
              "      <th>idade</th>\n",
              "      <th>salario</th>\n",
              "      <th>bonus</th>\n",
              "      <th>sócio</th>\n",
              "    </tr>\n",
              "  </thead>\n",
              "  <tbody>\n",
              "    <tr>\n",
              "      <th>0</th>\n",
              "      <td>Diretor</td>\n",
              "      <td>45</td>\n",
              "      <td>24000.0</td>\n",
              "      <td>10000.0</td>\n",
              "      <td>sim</td>\n",
              "    </tr>\n",
              "    <tr>\n",
              "      <th>1</th>\n",
              "      <td>Analista</td>\n",
              "      <td>22</td>\n",
              "      <td>8000.0</td>\n",
              "      <td>2000.0</td>\n",
              "      <td>não</td>\n",
              "    </tr>\n",
              "    <tr>\n",
              "      <th>2</th>\n",
              "      <td>Programador</td>\n",
              "      <td>30</td>\n",
              "      <td>NaN</td>\n",
              "      <td>1000.0</td>\n",
              "      <td>não</td>\n",
              "    </tr>\n",
              "    <tr>\n",
              "      <th>3</th>\n",
              "      <td>Gerente</td>\n",
              "      <td>24</td>\n",
              "      <td>15100.0</td>\n",
              "      <td>NaN</td>\n",
              "      <td>não</td>\n",
              "    </tr>\n",
              "    <tr>\n",
              "      <th>4</th>\n",
              "      <td>Gerente</td>\n",
              "      <td>30</td>\n",
              "      <td>35000.0</td>\n",
              "      <td>6000.0</td>\n",
              "      <td>sim</td>\n",
              "    </tr>\n",
              "    <tr>\n",
              "      <th>5</th>\n",
              "      <td>Programador</td>\n",
              "      <td>22</td>\n",
              "      <td>5300.0</td>\n",
              "      <td>2000.0</td>\n",
              "      <td>não</td>\n",
              "    </tr>\n",
              "    <tr>\n",
              "      <th>6</th>\n",
              "      <td>Analista</td>\n",
              "      <td>20</td>\n",
              "      <td>NaN</td>\n",
              "      <td>1200.0</td>\n",
              "      <td>não</td>\n",
              "    </tr>\n",
              "    <tr>\n",
              "      <th>7</th>\n",
              "      <td>Diretor</td>\n",
              "      <td>50</td>\n",
              "      <td>18000.0</td>\n",
              "      <td>8000.0</td>\n",
              "      <td>sim</td>\n",
              "    </tr>\n",
              "    <tr>\n",
              "      <th>8</th>\n",
              "      <td>Fundador</td>\n",
              "      <td>65</td>\n",
              "      <td>38000.0</td>\n",
              "      <td>28000.0</td>\n",
              "      <td>sim</td>\n",
              "    </tr>\n",
              "    <tr>\n",
              "      <th>9</th>\n",
              "      <td>Analista</td>\n",
              "      <td>32</td>\n",
              "      <td>7300.0</td>\n",
              "      <td>4000.0</td>\n",
              "      <td>não</td>\n",
              "    </tr>\n",
              "    <tr>\n",
              "      <th>10</th>\n",
              "      <td>Programador</td>\n",
              "      <td>35</td>\n",
              "      <td>2344.0</td>\n",
              "      <td>NaN</td>\n",
              "      <td>não</td>\n",
              "    </tr>\n",
              "    <tr>\n",
              "      <th>11</th>\n",
              "      <td>Programador</td>\n",
              "      <td>28</td>\n",
              "      <td>4500.0</td>\n",
              "      <td>2200.0</td>\n",
              "      <td>não</td>\n",
              "    </tr>\n",
              "    <tr>\n",
              "      <th>12</th>\n",
              "      <td>Fundador</td>\n",
              "      <td>28</td>\n",
              "      <td>30000.0</td>\n",
              "      <td>12000.0</td>\n",
              "      <td>sim</td>\n",
              "    </tr>\n",
              "    <tr>\n",
              "      <th>13</th>\n",
              "      <td>Programador</td>\n",
              "      <td>30</td>\n",
              "      <td>14000.0</td>\n",
              "      <td>10000.0</td>\n",
              "      <td>sim</td>\n",
              "    </tr>\n",
              "  </tbody>\n",
              "</table>\n",
              "</div>"
            ],
            "text/plain": [
              "          cargo  idade  salario    bonus sócio\n",
              "0       Diretor     45  24000.0  10000.0   sim\n",
              "1      Analista     22   8000.0   2000.0   não\n",
              "2   Programador     30      NaN   1000.0   não\n",
              "3       Gerente     24  15100.0      NaN   não\n",
              "4       Gerente     30  35000.0   6000.0   sim\n",
              "5   Programador     22   5300.0   2000.0   não\n",
              "6      Analista     20      NaN   1200.0   não\n",
              "7       Diretor     50  18000.0   8000.0   sim\n",
              "8      Fundador     65  38000.0  28000.0   sim\n",
              "9      Analista     32   7300.0   4000.0   não\n",
              "10  Programador     35   2344.0      NaN   não\n",
              "11  Programador     28   4500.0   2200.0   não\n",
              "12     Fundador     28  30000.0  12000.0   sim\n",
              "13  Programador     30  14000.0  10000.0   sim"
            ]
          },
          "metadata": {},
          "execution_count": 20
        }
      ]
    },
    {
      "cell_type": "code",
      "metadata": {
        "id": "po_H7VRRt1_G"
      },
      "source": [
        "# Separando os dados em um conjunto de atributos que serão usados como variáveis de input: \n",
        "# cargo, idade, salário e bônus e separar a variável resultante: sócio.\n",
        "X = dataset.iloc[:, :-1].values # cargo, idade, salário e bônus\n",
        "Y = dataset.iloc[:, 4].values # sócio"
      ],
      "execution_count": 21,
      "outputs": []
    },
    {
      "cell_type": "markdown",
      "metadata": {
        "id": "4ue_XgIbu1x1"
      },
      "source": [
        "# Tratando dados faltantes"
      ]
    },
    {
      "cell_type": "markdown",
      "metadata": {
        "id": "WG-MZN4r6ZVq"
      },
      "source": [
        "Para saber qual colunas possuem valores do tipo NaN. "
      ]
    },
    {
      "cell_type": "code",
      "metadata": {
        "colab": {
          "base_uri": "https://localhost:8080/"
        },
        "id": "cnfOR0Fw6ShI",
        "outputId": "b827c311-fe9c-48e7-c79e-c467db6a8579"
      },
      "source": [
        "dataset.isnull().sum()"
      ],
      "execution_count": 22,
      "outputs": [
        {
          "output_type": "execute_result",
          "data": {
            "text/plain": [
              "cargo      0\n",
              "idade      0\n",
              "salario    2\n",
              "bonus      2\n",
              "sócio      0\n",
              "dtype: int64"
            ]
          },
          "metadata": {},
          "execution_count": 22
        }
      ]
    },
    {
      "cell_type": "markdown",
      "metadata": {
        "id": "BRTRAFqk7orp"
      },
      "source": [
        "Obs: O registro 0 não é considerado um valor ausente."
      ]
    },
    {
      "cell_type": "markdown",
      "metadata": {
        "id": "F7bNrRiu7tQ_"
      },
      "source": [
        "Para substituir os valores igual 0 por NaN:"
      ]
    },
    {
      "cell_type": "code",
      "metadata": {
        "id": "qsp6ggR27psg"
      },
      "source": [
        "dataset = dataset[['cargo', 'idade', 'salario', 'bonus', 'sócio']].replace(0,np.NAN)"
      ],
      "execution_count": 23,
      "outputs": []
    },
    {
      "cell_type": "markdown",
      "metadata": {
        "id": "Se2MbTiBvPD-"
      },
      "source": [
        "## Deletando colunas"
      ]
    },
    {
      "cell_type": "code",
      "metadata": {
        "id": "gqe9Xc7mt9y3"
      },
      "source": [
        "#dataset.dropna(axis=1, inplace=True) "
      ],
      "execution_count": 24,
      "outputs": []
    },
    {
      "cell_type": "code",
      "metadata": {
        "id": "gPJDHSz_vajg"
      },
      "source": [
        "# Recomendado para tratar de colunas que não tem valores relevantes para o dataset axis = n, \n",
        "# com n = 1, 2, 3, ... para dizer que queremos deletar a coluna e inplace = True para \n",
        "# aplicarmos no dataset e não criarmos uma cópia"
      ],
      "execution_count": 25,
      "outputs": []
    },
    {
      "cell_type": "code",
      "metadata": {
        "colab": {
          "base_uri": "https://localhost:8080/",
          "height": 206
        },
        "id": "4q4RfV39vwkx",
        "outputId": "61913d63-2b97-48ec-e0b9-be6501e31311"
      },
      "source": [
        "dataset.head()"
      ],
      "execution_count": 26,
      "outputs": [
        {
          "output_type": "execute_result",
          "data": {
            "text/html": [
              "<div>\n",
              "<style scoped>\n",
              "    .dataframe tbody tr th:only-of-type {\n",
              "        vertical-align: middle;\n",
              "    }\n",
              "\n",
              "    .dataframe tbody tr th {\n",
              "        vertical-align: top;\n",
              "    }\n",
              "\n",
              "    .dataframe thead th {\n",
              "        text-align: right;\n",
              "    }\n",
              "</style>\n",
              "<table border=\"1\" class=\"dataframe\">\n",
              "  <thead>\n",
              "    <tr style=\"text-align: right;\">\n",
              "      <th></th>\n",
              "      <th>cargo</th>\n",
              "      <th>idade</th>\n",
              "      <th>salario</th>\n",
              "      <th>bonus</th>\n",
              "      <th>sócio</th>\n",
              "    </tr>\n",
              "  </thead>\n",
              "  <tbody>\n",
              "    <tr>\n",
              "      <th>0</th>\n",
              "      <td>Diretor</td>\n",
              "      <td>45</td>\n",
              "      <td>24000.0</td>\n",
              "      <td>10000.0</td>\n",
              "      <td>sim</td>\n",
              "    </tr>\n",
              "    <tr>\n",
              "      <th>1</th>\n",
              "      <td>Analista</td>\n",
              "      <td>22</td>\n",
              "      <td>8000.0</td>\n",
              "      <td>2000.0</td>\n",
              "      <td>não</td>\n",
              "    </tr>\n",
              "    <tr>\n",
              "      <th>2</th>\n",
              "      <td>Programador</td>\n",
              "      <td>30</td>\n",
              "      <td>NaN</td>\n",
              "      <td>1000.0</td>\n",
              "      <td>não</td>\n",
              "    </tr>\n",
              "    <tr>\n",
              "      <th>3</th>\n",
              "      <td>Gerente</td>\n",
              "      <td>24</td>\n",
              "      <td>15100.0</td>\n",
              "      <td>NaN</td>\n",
              "      <td>não</td>\n",
              "    </tr>\n",
              "    <tr>\n",
              "      <th>4</th>\n",
              "      <td>Gerente</td>\n",
              "      <td>30</td>\n",
              "      <td>35000.0</td>\n",
              "      <td>6000.0</td>\n",
              "      <td>sim</td>\n",
              "    </tr>\n",
              "  </tbody>\n",
              "</table>\n",
              "</div>"
            ],
            "text/plain": [
              "         cargo  idade  salario    bonus sócio\n",
              "0      Diretor     45  24000.0  10000.0   sim\n",
              "1     Analista     22   8000.0   2000.0   não\n",
              "2  Programador     30      NaN   1000.0   não\n",
              "3      Gerente     24  15100.0      NaN   não\n",
              "4      Gerente     30  35000.0   6000.0   sim"
            ]
          },
          "metadata": {},
          "execution_count": 26
        }
      ]
    },
    {
      "cell_type": "markdown",
      "metadata": {
        "id": "XukwuQi37P8v"
      },
      "source": [
        "## Preenchendo os valores faltantes com valores constantes"
      ]
    },
    {
      "cell_type": "code",
      "metadata": {
        "colab": {
          "base_uri": "https://localhost:8080/",
          "height": 488
        },
        "id": "k6xwWp5B7V9R",
        "outputId": "314bd545-8d78-4427-a0cf-30b054c0a732"
      },
      "source": [
        "dataset.fillna(0)"
      ],
      "execution_count": 27,
      "outputs": [
        {
          "output_type": "execute_result",
          "data": {
            "text/html": [
              "<div>\n",
              "<style scoped>\n",
              "    .dataframe tbody tr th:only-of-type {\n",
              "        vertical-align: middle;\n",
              "    }\n",
              "\n",
              "    .dataframe tbody tr th {\n",
              "        vertical-align: top;\n",
              "    }\n",
              "\n",
              "    .dataframe thead th {\n",
              "        text-align: right;\n",
              "    }\n",
              "</style>\n",
              "<table border=\"1\" class=\"dataframe\">\n",
              "  <thead>\n",
              "    <tr style=\"text-align: right;\">\n",
              "      <th></th>\n",
              "      <th>cargo</th>\n",
              "      <th>idade</th>\n",
              "      <th>salario</th>\n",
              "      <th>bonus</th>\n",
              "      <th>sócio</th>\n",
              "    </tr>\n",
              "  </thead>\n",
              "  <tbody>\n",
              "    <tr>\n",
              "      <th>0</th>\n",
              "      <td>Diretor</td>\n",
              "      <td>45</td>\n",
              "      <td>24000.0</td>\n",
              "      <td>10000.0</td>\n",
              "      <td>sim</td>\n",
              "    </tr>\n",
              "    <tr>\n",
              "      <th>1</th>\n",
              "      <td>Analista</td>\n",
              "      <td>22</td>\n",
              "      <td>8000.0</td>\n",
              "      <td>2000.0</td>\n",
              "      <td>não</td>\n",
              "    </tr>\n",
              "    <tr>\n",
              "      <th>2</th>\n",
              "      <td>Programador</td>\n",
              "      <td>30</td>\n",
              "      <td>0.0</td>\n",
              "      <td>1000.0</td>\n",
              "      <td>não</td>\n",
              "    </tr>\n",
              "    <tr>\n",
              "      <th>3</th>\n",
              "      <td>Gerente</td>\n",
              "      <td>24</td>\n",
              "      <td>15100.0</td>\n",
              "      <td>0.0</td>\n",
              "      <td>não</td>\n",
              "    </tr>\n",
              "    <tr>\n",
              "      <th>4</th>\n",
              "      <td>Gerente</td>\n",
              "      <td>30</td>\n",
              "      <td>35000.0</td>\n",
              "      <td>6000.0</td>\n",
              "      <td>sim</td>\n",
              "    </tr>\n",
              "    <tr>\n",
              "      <th>5</th>\n",
              "      <td>Programador</td>\n",
              "      <td>22</td>\n",
              "      <td>5300.0</td>\n",
              "      <td>2000.0</td>\n",
              "      <td>não</td>\n",
              "    </tr>\n",
              "    <tr>\n",
              "      <th>6</th>\n",
              "      <td>Analista</td>\n",
              "      <td>20</td>\n",
              "      <td>0.0</td>\n",
              "      <td>1200.0</td>\n",
              "      <td>não</td>\n",
              "    </tr>\n",
              "    <tr>\n",
              "      <th>7</th>\n",
              "      <td>Diretor</td>\n",
              "      <td>50</td>\n",
              "      <td>18000.0</td>\n",
              "      <td>8000.0</td>\n",
              "      <td>sim</td>\n",
              "    </tr>\n",
              "    <tr>\n",
              "      <th>8</th>\n",
              "      <td>Fundador</td>\n",
              "      <td>65</td>\n",
              "      <td>38000.0</td>\n",
              "      <td>28000.0</td>\n",
              "      <td>sim</td>\n",
              "    </tr>\n",
              "    <tr>\n",
              "      <th>9</th>\n",
              "      <td>Analista</td>\n",
              "      <td>32</td>\n",
              "      <td>7300.0</td>\n",
              "      <td>4000.0</td>\n",
              "      <td>não</td>\n",
              "    </tr>\n",
              "    <tr>\n",
              "      <th>10</th>\n",
              "      <td>Programador</td>\n",
              "      <td>35</td>\n",
              "      <td>2344.0</td>\n",
              "      <td>0.0</td>\n",
              "      <td>não</td>\n",
              "    </tr>\n",
              "    <tr>\n",
              "      <th>11</th>\n",
              "      <td>Programador</td>\n",
              "      <td>28</td>\n",
              "      <td>4500.0</td>\n",
              "      <td>2200.0</td>\n",
              "      <td>não</td>\n",
              "    </tr>\n",
              "    <tr>\n",
              "      <th>12</th>\n",
              "      <td>Fundador</td>\n",
              "      <td>28</td>\n",
              "      <td>30000.0</td>\n",
              "      <td>12000.0</td>\n",
              "      <td>sim</td>\n",
              "    </tr>\n",
              "    <tr>\n",
              "      <th>13</th>\n",
              "      <td>Programador</td>\n",
              "      <td>30</td>\n",
              "      <td>14000.0</td>\n",
              "      <td>10000.0</td>\n",
              "      <td>sim</td>\n",
              "    </tr>\n",
              "  </tbody>\n",
              "</table>\n",
              "</div>"
            ],
            "text/plain": [
              "          cargo  idade  salario    bonus sócio\n",
              "0       Diretor     45  24000.0  10000.0   sim\n",
              "1      Analista     22   8000.0   2000.0   não\n",
              "2   Programador     30      0.0   1000.0   não\n",
              "3       Gerente     24  15100.0      0.0   não\n",
              "4       Gerente     30  35000.0   6000.0   sim\n",
              "5   Programador     22   5300.0   2000.0   não\n",
              "6      Analista     20      0.0   1200.0   não\n",
              "7       Diretor     50  18000.0   8000.0   sim\n",
              "8      Fundador     65  38000.0  28000.0   sim\n",
              "9      Analista     32   7300.0   4000.0   não\n",
              "10  Programador     35   2344.0      0.0   não\n",
              "11  Programador     28   4500.0   2200.0   não\n",
              "12     Fundador     28  30000.0  12000.0   sim\n",
              "13  Programador     30  14000.0  10000.0   sim"
            ]
          },
          "metadata": {},
          "execution_count": 27
        }
      ]
    },
    {
      "cell_type": "markdown",
      "metadata": {
        "id": "x_LOFgEN8YTc"
      },
      "source": [
        "caso seja apenas uma coluna"
      ]
    },
    {
      "cell_type": "code",
      "metadata": {
        "colab": {
          "base_uri": "https://localhost:8080/"
        },
        "id": "9A0-e9K77Vzh",
        "outputId": "d09b4519-a5b2-47f0-bc1b-4d753e4a251c"
      },
      "source": [
        "dataset['salario'].fillna(1)"
      ],
      "execution_count": 28,
      "outputs": [
        {
          "output_type": "execute_result",
          "data": {
            "text/plain": [
              "0     24000.0\n",
              "1      8000.0\n",
              "2         1.0\n",
              "3     15100.0\n",
              "4     35000.0\n",
              "5      5300.0\n",
              "6         1.0\n",
              "7     18000.0\n",
              "8     38000.0\n",
              "9      7300.0\n",
              "10     2344.0\n",
              "11     4500.0\n",
              "12    30000.0\n",
              "13    14000.0\n",
              "Name: salario, dtype: float64"
            ]
          },
          "metadata": {},
          "execution_count": 28
        }
      ]
    },
    {
      "cell_type": "markdown",
      "metadata": {
        "id": "4WKoD-_TzkPA"
      },
      "source": [
        "## Preenchendo valores que faltam com a média, moda e mediana dos valores da coluna "
      ]
    },
    {
      "cell_type": "markdown",
      "metadata": {
        "id": "RE6wLtfZBbwo"
      },
      "source": [
        "Para substituir a coluna pela versão escolhida, basta fazer:"
      ]
    },
    {
      "cell_type": "code",
      "metadata": {
        "colab": {
          "base_uri": "https://localhost:8080/",
          "height": 131
        },
        "id": "LuWeOYkuBgyC",
        "outputId": "7391d413-c817-4d80-c225-008d061f5310"
      },
      "source": [
        "dataset['salario'] = #Segunda linha do Média, Moda ou Mediana   "
      ],
      "execution_count": 29,
      "outputs": [
        {
          "output_type": "error",
          "ename": "SyntaxError",
          "evalue": "ignored",
          "traceback": [
            "\u001b[0;36m  File \u001b[0;32m\"<ipython-input-29-eda19acb230e>\"\u001b[0;36m, line \u001b[0;32m1\u001b[0m\n\u001b[0;31m    dataset['salario'] = #Segunda linha do Média, Moda ou Mediana\u001b[0m\n\u001b[0m                                                                    ^\u001b[0m\n\u001b[0;31mSyntaxError\u001b[0m\u001b[0;31m:\u001b[0m invalid syntax\n"
          ]
        }
      ]
    },
    {
      "cell_type": "markdown",
      "metadata": {
        "id": "NQZhY0itBPsE"
      },
      "source": [
        "#### Média"
      ]
    },
    {
      "cell_type": "code",
      "metadata": {
        "colab": {
          "base_uri": "https://localhost:8080/"
        },
        "id": "pq_XfY4O9F4p",
        "outputId": "32e97701-d63b-439d-d7c2-e683d27f93c9"
      },
      "source": [
        "media = dataset['salario'].mean()\n",
        "print(media)"
      ],
      "execution_count": 30,
      "outputs": [
        {
          "output_type": "stream",
          "name": "stdout",
          "text": [
            "16795.333333333332\n"
          ]
        }
      ]
    },
    {
      "cell_type": "code",
      "metadata": {
        "colab": {
          "base_uri": "https://localhost:8080/"
        },
        "id": "fHPjzoKX9F2P",
        "outputId": "83888157-29b9-4c4f-81d5-59e59e5ef618"
      },
      "source": [
        "dataset['salario'].fillna(media).head()"
      ],
      "execution_count": 31,
      "outputs": [
        {
          "output_type": "execute_result",
          "data": {
            "text/plain": [
              "0    24000.000000\n",
              "1     8000.000000\n",
              "2    16795.333333\n",
              "3    15100.000000\n",
              "4    35000.000000\n",
              "Name: salario, dtype: float64"
            ]
          },
          "metadata": {},
          "execution_count": 31
        }
      ]
    },
    {
      "cell_type": "code",
      "metadata": {
        "id": "telpjRf0BvVx"
      },
      "source": [
        "# dataset['salario'] = dataset['salario'].fillna(media)"
      ],
      "execution_count": 32,
      "outputs": []
    },
    {
      "cell_type": "code",
      "metadata": {
        "colab": {
          "base_uri": "https://localhost:8080/",
          "height": 206
        },
        "id": "40Kljb5EB3xa",
        "outputId": "795dd46f-619b-4870-8bee-914ac9e7e7ae"
      },
      "source": [
        "dataset.head()"
      ],
      "execution_count": 33,
      "outputs": [
        {
          "output_type": "execute_result",
          "data": {
            "text/html": [
              "<div>\n",
              "<style scoped>\n",
              "    .dataframe tbody tr th:only-of-type {\n",
              "        vertical-align: middle;\n",
              "    }\n",
              "\n",
              "    .dataframe tbody tr th {\n",
              "        vertical-align: top;\n",
              "    }\n",
              "\n",
              "    .dataframe thead th {\n",
              "        text-align: right;\n",
              "    }\n",
              "</style>\n",
              "<table border=\"1\" class=\"dataframe\">\n",
              "  <thead>\n",
              "    <tr style=\"text-align: right;\">\n",
              "      <th></th>\n",
              "      <th>cargo</th>\n",
              "      <th>idade</th>\n",
              "      <th>salario</th>\n",
              "      <th>bonus</th>\n",
              "      <th>sócio</th>\n",
              "    </tr>\n",
              "  </thead>\n",
              "  <tbody>\n",
              "    <tr>\n",
              "      <th>0</th>\n",
              "      <td>Diretor</td>\n",
              "      <td>45</td>\n",
              "      <td>24000.0</td>\n",
              "      <td>10000.0</td>\n",
              "      <td>sim</td>\n",
              "    </tr>\n",
              "    <tr>\n",
              "      <th>1</th>\n",
              "      <td>Analista</td>\n",
              "      <td>22</td>\n",
              "      <td>8000.0</td>\n",
              "      <td>2000.0</td>\n",
              "      <td>não</td>\n",
              "    </tr>\n",
              "    <tr>\n",
              "      <th>2</th>\n",
              "      <td>Programador</td>\n",
              "      <td>30</td>\n",
              "      <td>NaN</td>\n",
              "      <td>1000.0</td>\n",
              "      <td>não</td>\n",
              "    </tr>\n",
              "    <tr>\n",
              "      <th>3</th>\n",
              "      <td>Gerente</td>\n",
              "      <td>24</td>\n",
              "      <td>15100.0</td>\n",
              "      <td>NaN</td>\n",
              "      <td>não</td>\n",
              "    </tr>\n",
              "    <tr>\n",
              "      <th>4</th>\n",
              "      <td>Gerente</td>\n",
              "      <td>30</td>\n",
              "      <td>35000.0</td>\n",
              "      <td>6000.0</td>\n",
              "      <td>sim</td>\n",
              "    </tr>\n",
              "  </tbody>\n",
              "</table>\n",
              "</div>"
            ],
            "text/plain": [
              "         cargo  idade  salario    bonus sócio\n",
              "0      Diretor     45  24000.0  10000.0   sim\n",
              "1     Analista     22   8000.0   2000.0   não\n",
              "2  Programador     30      NaN   1000.0   não\n",
              "3      Gerente     24  15100.0      NaN   não\n",
              "4      Gerente     30  35000.0   6000.0   sim"
            ]
          },
          "metadata": {},
          "execution_count": 33
        }
      ]
    },
    {
      "cell_type": "markdown",
      "metadata": {
        "id": "oO4ddVzzBVix"
      },
      "source": [
        "#### Moda"
      ]
    },
    {
      "cell_type": "code",
      "metadata": {
        "colab": {
          "base_uri": "https://localhost:8080/"
        },
        "id": "vmvOk1Fo9Fzp",
        "outputId": "893f4ee3-a81b-4e61-9218-4aebd11a82ee"
      },
      "source": [
        "moda = dataset['salario'].mode()\n",
        "print(moda)"
      ],
      "execution_count": 34,
      "outputs": [
        {
          "output_type": "stream",
          "name": "stdout",
          "text": [
            "0      2344.0\n",
            "1      4500.0\n",
            "2      5300.0\n",
            "3      7300.0\n",
            "4      8000.0\n",
            "5     14000.0\n",
            "6     15100.0\n",
            "7     18000.0\n",
            "8     24000.0\n",
            "9     30000.0\n",
            "10    35000.0\n",
            "11    38000.0\n",
            "dtype: float64\n"
          ]
        }
      ]
    },
    {
      "cell_type": "code",
      "metadata": {
        "colab": {
          "base_uri": "https://localhost:8080/"
        },
        "id": "bGHli2JzCR8Z",
        "outputId": "d076b647-0929-44d2-fa90-2b2a79806198"
      },
      "source": [
        "dataset['salario'].fillna(moda).head()"
      ],
      "execution_count": 35,
      "outputs": [
        {
          "output_type": "execute_result",
          "data": {
            "text/plain": [
              "0    24000.0\n",
              "1     8000.0\n",
              "2     5300.0\n",
              "3    15100.0\n",
              "4    35000.0\n",
              "Name: salario, dtype: float64"
            ]
          },
          "metadata": {},
          "execution_count": 35
        }
      ]
    },
    {
      "cell_type": "markdown",
      "metadata": {
        "id": "DQFfIYOzBXoH"
      },
      "source": [
        "#### Mediana"
      ]
    },
    {
      "cell_type": "code",
      "metadata": {
        "colab": {
          "base_uri": "https://localhost:8080/"
        },
        "id": "dvOVHbLI9Fqh",
        "outputId": "00c34771-d29f-44ce-8d0c-145ae437ad24"
      },
      "source": [
        "mediana = dataset['salario'].median()\n",
        "print(mediana)"
      ],
      "execution_count": 36,
      "outputs": [
        {
          "output_type": "stream",
          "name": "stdout",
          "text": [
            "14550.0\n"
          ]
        }
      ]
    },
    {
      "cell_type": "code",
      "metadata": {
        "colab": {
          "base_uri": "https://localhost:8080/"
        },
        "id": "_WGhx2m6BIzx",
        "outputId": "0d2c7f5f-c30f-4f05-d566-3665bc3028d7"
      },
      "source": [
        "dataset['salario'].fillna(mediana).head()"
      ],
      "execution_count": 37,
      "outputs": [
        {
          "output_type": "execute_result",
          "data": {
            "text/plain": [
              "0    24000.0\n",
              "1     8000.0\n",
              "2    14550.0\n",
              "3    15100.0\n",
              "4    35000.0\n",
              "Name: salario, dtype: float64"
            ]
          },
          "metadata": {},
          "execution_count": 37
        }
      ]
    },
    {
      "cell_type": "markdown",
      "metadata": {
        "id": "LzC86XMz9BED"
      },
      "source": [
        "### Preenchendo os valores que faltam com a média, moda usando o Imputer"
      ]
    },
    {
      "cell_type": "code",
      "metadata": {
        "id": "QJsRnHge0HPI"
      },
      "source": [
        "from sklearn.impute import SimpleImputer"
      ],
      "execution_count": 38,
      "outputs": []
    },
    {
      "cell_type": "code",
      "metadata": {
        "id": "wIAfkb9MzzFg"
      },
      "source": [
        "imputer = SimpleImputer(missing_values=np.nan, strategy=\"mean\")"
      ],
      "execution_count": 39,
      "outputs": []
    },
    {
      "cell_type": "markdown",
      "metadata": {
        "id": "o1NmnW132vbJ"
      },
      "source": [
        "vamos aplicar o método fit do imputer apenas nas colunas com dados faltantes e criando e colocando esses valores em uma coluna nova"
      ]
    },
    {
      "cell_type": "code",
      "metadata": {
        "id": "1aqDDjuf1f4_"
      },
      "source": [
        "# dataset['salario2'] = imputer.fit_transform(dataset[['salario']])"
      ],
      "execution_count": 40,
      "outputs": []
    },
    {
      "cell_type": "code",
      "metadata": {
        "id": "kLcM4B6O23YP"
      },
      "source": [
        "# dataset[['salario', 'salario2']].head()"
      ],
      "execution_count": 41,
      "outputs": []
    },
    {
      "cell_type": "markdown",
      "metadata": {
        "id": "-OZv7aWxDlYx"
      },
      "source": [
        "Se “mean”, substitui os valores ausentes usando a média ao longo de cada coluna. Só pode ser usado com dados numéricos.\n",
        "\n",
        "Se “median”, substitui os valores ausentes usando a mediana em cada coluna. Só pode ser usado com dados numéricos.\n",
        "\n",
        "Se “most_frequent”, substitui os valores ausentes usando o valor mais frequente em cada coluna. Pode ser usado com strings ou dados numéricos.\n",
        "\n",
        "Se “constant”, substitui os valores ausentes por fill_value. Pode ser usado com strings ou dados numéricos."
      ]
    },
    {
      "cell_type": "markdown",
      "metadata": {
        "id": "pM1Ph5ogGBnM"
      },
      "source": [
        "# Variaveis Categoricas"
      ]
    },
    {
      "cell_type": "markdown",
      "metadata": {
        "id": "CQMex6DvGibT"
      },
      "source": [
        "No nosso dataset temos apenas a coluna dos cargos contendo variaveis categóricas que são as variaveis nominais, sem escalas e não numéricas."
      ]
    },
    {
      "cell_type": "markdown",
      "metadata": {
        "id": "7lza9_Y2HRdL"
      },
      "source": [
        "Uma ideia para tratar esse problema é utilizar a classe LabelEncoder do sklearn para transformar os nomes em números (diretor: 0, analista: 1, gerente: 2, programador: 3 e fundador: 4) "
      ]
    },
    {
      "cell_type": "code",
      "metadata": {
        "id": "sNpWxiFLF90C"
      },
      "source": [
        "from sklearn.preprocessing import LabelEncoder"
      ],
      "execution_count": 42,
      "outputs": []
    },
    {
      "cell_type": "markdown",
      "metadata": {
        "id": "BGk_Pi1HHW9C"
      },
      "source": [
        "objeto do LabelEncoder e fazer fit_tranform apenas para a nossa coluna com valores categóricos:"
      ]
    },
    {
      "cell_type": "code",
      "metadata": {
        "colab": {
          "base_uri": "https://localhost:8080/"
        },
        "id": "29XndYzzGAGa",
        "outputId": "7f51c3d0-b823-4c09-a484-a46ebdeddabb"
      },
      "source": [
        "labelencoder_X = LabelEncoder()\n",
        "X[:, 0] = labelencoder_X.fit_transform(X[:, 0])\n",
        "print(X)"
      ],
      "execution_count": 43,
      "outputs": [
        {
          "output_type": "stream",
          "name": "stdout",
          "text": [
            "[[1 45 24000.0 10000.0]\n",
            " [0 22 8000.0 2000.0]\n",
            " [4 30 nan 1000.0]\n",
            " [3 24 15100.0 nan]\n",
            " [3 30 35000.0 6000.0]\n",
            " [4 22 5300.0 2000.0]\n",
            " [0 20 nan 1200.0]\n",
            " [1 50 18000.0 8000.0]\n",
            " [2 65 38000.0 28000.0]\n",
            " [0 32 7300.0 4000.0]\n",
            " [4 35 2344.0 nan]\n",
            " [4 28 4500.0 2200.0]\n",
            " [2 28 30000.0 12000.0]\n",
            " [4 30 14000.0 10000.0]]\n"
          ]
        }
      ]
    },
    {
      "cell_type": "markdown",
      "metadata": {
        "id": "tAQt13TjIVPC"
      },
      "source": [
        "# Reescalar Dados"
      ]
    },
    {
      "cell_type": "markdown",
      "metadata": {
        "id": "gGPvaZmUKa8r"
      },
      "source": [
        "Para resolver problemas com falta de escala dos dados contidos no dataset"
      ]
    },
    {
      "cell_type": "markdown",
      "metadata": {
        "id": "LVVwFmWgLd7K"
      },
      "source": [
        "## Normalizer"
      ]
    },
    {
      "cell_type": "markdown",
      "metadata": {
        "id": "_YEJcbPELiNT"
      },
      "source": [
        "O Normalize age reescalando os dados por exemplos/linhas e não por colunas, ou seja, o Normalizer, neste caso, levará em contas os atributos idade, salário e bonus e reescalar os valores com base nesses três valores.\n",
        "\n",
        "\n",
        "> ***O Normalizer é uma boa escolha quando você sabe que a distribuição dos seus dados não é normal/gaussiana ou quando você não sabe qual é o tipo de distribuição dos seus dados.***\n",
        "\n"
      ]
    },
    {
      "cell_type": "code",
      "metadata": {
        "id": "-HbOdFAdMP_U"
      },
      "source": [
        "from sklearn.preprocessing import Normalizer"
      ],
      "execution_count": 44,
      "outputs": []
    },
    {
      "cell_type": "code",
      "metadata": {
        "colab": {
          "base_uri": "https://localhost:8080/",
          "height": 206
        },
        "id": "9-B1O7L9NQwj",
        "outputId": "2cedda07-fcfb-4b72-82a1-756d31de764b"
      },
      "source": [
        "dataset['salario'] = imputer.fit_transform(dataset[['salario']])\n",
        "dataset['bonus'] = imputer.fit_transform(dataset[['bonus']])\n",
        "dataset.head()"
      ],
      "execution_count": 45,
      "outputs": [
        {
          "output_type": "execute_result",
          "data": {
            "text/html": [
              "<div>\n",
              "<style scoped>\n",
              "    .dataframe tbody tr th:only-of-type {\n",
              "        vertical-align: middle;\n",
              "    }\n",
              "\n",
              "    .dataframe tbody tr th {\n",
              "        vertical-align: top;\n",
              "    }\n",
              "\n",
              "    .dataframe thead th {\n",
              "        text-align: right;\n",
              "    }\n",
              "</style>\n",
              "<table border=\"1\" class=\"dataframe\">\n",
              "  <thead>\n",
              "    <tr style=\"text-align: right;\">\n",
              "      <th></th>\n",
              "      <th>cargo</th>\n",
              "      <th>idade</th>\n",
              "      <th>salario</th>\n",
              "      <th>bonus</th>\n",
              "      <th>sócio</th>\n",
              "    </tr>\n",
              "  </thead>\n",
              "  <tbody>\n",
              "    <tr>\n",
              "      <th>0</th>\n",
              "      <td>Diretor</td>\n",
              "      <td>45</td>\n",
              "      <td>24000.000000</td>\n",
              "      <td>10000.0</td>\n",
              "      <td>sim</td>\n",
              "    </tr>\n",
              "    <tr>\n",
              "      <th>1</th>\n",
              "      <td>Analista</td>\n",
              "      <td>22</td>\n",
              "      <td>8000.000000</td>\n",
              "      <td>2000.0</td>\n",
              "      <td>não</td>\n",
              "    </tr>\n",
              "    <tr>\n",
              "      <th>2</th>\n",
              "      <td>Programador</td>\n",
              "      <td>30</td>\n",
              "      <td>16795.333333</td>\n",
              "      <td>1000.0</td>\n",
              "      <td>não</td>\n",
              "    </tr>\n",
              "    <tr>\n",
              "      <th>3</th>\n",
              "      <td>Gerente</td>\n",
              "      <td>24</td>\n",
              "      <td>15100.000000</td>\n",
              "      <td>7200.0</td>\n",
              "      <td>não</td>\n",
              "    </tr>\n",
              "    <tr>\n",
              "      <th>4</th>\n",
              "      <td>Gerente</td>\n",
              "      <td>30</td>\n",
              "      <td>35000.000000</td>\n",
              "      <td>6000.0</td>\n",
              "      <td>sim</td>\n",
              "    </tr>\n",
              "  </tbody>\n",
              "</table>\n",
              "</div>"
            ],
            "text/plain": [
              "         cargo  idade       salario    bonus sócio\n",
              "0      Diretor     45  24000.000000  10000.0   sim\n",
              "1     Analista     22   8000.000000   2000.0   não\n",
              "2  Programador     30  16795.333333   1000.0   não\n",
              "3      Gerente     24  15100.000000   7200.0   não\n",
              "4      Gerente     30  35000.000000   6000.0   sim"
            ]
          },
          "metadata": {},
          "execution_count": 45
        }
      ]
    },
    {
      "cell_type": "code",
      "metadata": {
        "colab": {
          "base_uri": "https://localhost:8080/",
          "height": 206
        },
        "id": "okuCtowmWpcL",
        "outputId": "af678a64-4601-4cbd-fe24-e21b88d871d0"
      },
      "source": [
        "X = pd.DataFrame(X)\n",
        "X.head()"
      ],
      "execution_count": 46,
      "outputs": [
        {
          "output_type": "execute_result",
          "data": {
            "text/html": [
              "<div>\n",
              "<style scoped>\n",
              "    .dataframe tbody tr th:only-of-type {\n",
              "        vertical-align: middle;\n",
              "    }\n",
              "\n",
              "    .dataframe tbody tr th {\n",
              "        vertical-align: top;\n",
              "    }\n",
              "\n",
              "    .dataframe thead th {\n",
              "        text-align: right;\n",
              "    }\n",
              "</style>\n",
              "<table border=\"1\" class=\"dataframe\">\n",
              "  <thead>\n",
              "    <tr style=\"text-align: right;\">\n",
              "      <th></th>\n",
              "      <th>0</th>\n",
              "      <th>1</th>\n",
              "      <th>2</th>\n",
              "      <th>3</th>\n",
              "    </tr>\n",
              "  </thead>\n",
              "  <tbody>\n",
              "    <tr>\n",
              "      <th>0</th>\n",
              "      <td>1</td>\n",
              "      <td>45</td>\n",
              "      <td>24000</td>\n",
              "      <td>10000</td>\n",
              "    </tr>\n",
              "    <tr>\n",
              "      <th>1</th>\n",
              "      <td>0</td>\n",
              "      <td>22</td>\n",
              "      <td>8000</td>\n",
              "      <td>2000</td>\n",
              "    </tr>\n",
              "    <tr>\n",
              "      <th>2</th>\n",
              "      <td>4</td>\n",
              "      <td>30</td>\n",
              "      <td>NaN</td>\n",
              "      <td>1000</td>\n",
              "    </tr>\n",
              "    <tr>\n",
              "      <th>3</th>\n",
              "      <td>3</td>\n",
              "      <td>24</td>\n",
              "      <td>15100</td>\n",
              "      <td>NaN</td>\n",
              "    </tr>\n",
              "    <tr>\n",
              "      <th>4</th>\n",
              "      <td>3</td>\n",
              "      <td>30</td>\n",
              "      <td>35000</td>\n",
              "      <td>6000</td>\n",
              "    </tr>\n",
              "  </tbody>\n",
              "</table>\n",
              "</div>"
            ],
            "text/plain": [
              "   0   1      2      3\n",
              "0  1  45  24000  10000\n",
              "1  0  22   8000   2000\n",
              "2  4  30    NaN   1000\n",
              "3  3  24  15100    NaN\n",
              "4  3  30  35000   6000"
            ]
          },
          "metadata": {},
          "execution_count": 46
        }
      ]
    },
    {
      "cell_type": "code",
      "metadata": {
        "colab": {
          "base_uri": "https://localhost:8080/",
          "height": 206
        },
        "id": "aZ1g8XJ2W3Qx",
        "outputId": "26e3042b-e397-4415-9412-75336d99b939"
      },
      "source": [
        "X[2] = imputer.fit_transform(X[[2]])\n",
        "X[3] = imputer.fit_transform(X[[3]])\n",
        "X.head()"
      ],
      "execution_count": 47,
      "outputs": [
        {
          "output_type": "execute_result",
          "data": {
            "text/html": [
              "<div>\n",
              "<style scoped>\n",
              "    .dataframe tbody tr th:only-of-type {\n",
              "        vertical-align: middle;\n",
              "    }\n",
              "\n",
              "    .dataframe tbody tr th {\n",
              "        vertical-align: top;\n",
              "    }\n",
              "\n",
              "    .dataframe thead th {\n",
              "        text-align: right;\n",
              "    }\n",
              "</style>\n",
              "<table border=\"1\" class=\"dataframe\">\n",
              "  <thead>\n",
              "    <tr style=\"text-align: right;\">\n",
              "      <th></th>\n",
              "      <th>0</th>\n",
              "      <th>1</th>\n",
              "      <th>2</th>\n",
              "      <th>3</th>\n",
              "    </tr>\n",
              "  </thead>\n",
              "  <tbody>\n",
              "    <tr>\n",
              "      <th>0</th>\n",
              "      <td>1</td>\n",
              "      <td>45</td>\n",
              "      <td>24000.000000</td>\n",
              "      <td>10000.0</td>\n",
              "    </tr>\n",
              "    <tr>\n",
              "      <th>1</th>\n",
              "      <td>0</td>\n",
              "      <td>22</td>\n",
              "      <td>8000.000000</td>\n",
              "      <td>2000.0</td>\n",
              "    </tr>\n",
              "    <tr>\n",
              "      <th>2</th>\n",
              "      <td>4</td>\n",
              "      <td>30</td>\n",
              "      <td>16795.333333</td>\n",
              "      <td>1000.0</td>\n",
              "    </tr>\n",
              "    <tr>\n",
              "      <th>3</th>\n",
              "      <td>3</td>\n",
              "      <td>24</td>\n",
              "      <td>15100.000000</td>\n",
              "      <td>7200.0</td>\n",
              "    </tr>\n",
              "    <tr>\n",
              "      <th>4</th>\n",
              "      <td>3</td>\n",
              "      <td>30</td>\n",
              "      <td>35000.000000</td>\n",
              "      <td>6000.0</td>\n",
              "    </tr>\n",
              "  </tbody>\n",
              "</table>\n",
              "</div>"
            ],
            "text/plain": [
              "   0   1             2        3\n",
              "0  1  45  24000.000000  10000.0\n",
              "1  0  22   8000.000000   2000.0\n",
              "2  4  30  16795.333333   1000.0\n",
              "3  3  24  15100.000000   7200.0\n",
              "4  3  30  35000.000000   6000.0"
            ]
          },
          "metadata": {},
          "execution_count": 47
        }
      ]
    },
    {
      "cell_type": "code",
      "metadata": {
        "id": "dIipgqUWW2iZ"
      },
      "source": [
        "# X_array = X.to_numpy\n",
        "# print(X_array)\n",
        "# print(             )\n",
        "# print(type(X_array))"
      ],
      "execution_count": 48,
      "outputs": []
    },
    {
      "cell_type": "markdown",
      "metadata": {
        "id": "-u4PXi8ude8a"
      },
      "source": [
        "Eu fiz alguma coisa que não consegui reverter direito, mas transformei o X em array e depois quando voltei pra dataset ficou sem o cabeçalho. Ai as colunas ficaram 1, 2, 3 invés de \"idade\", \"salario\", \"bonus\""
      ]
    },
    {
      "cell_type": "code",
      "metadata": {
        "id": "ScQ7DnJkSrLU"
      },
      "source": [
        "#X = X[:, 1:]\n",
        "#X = pd.DataFrame({1:X[:,0], 2:X[:,1], 3:X[:,2]})\n",
        "#print(X)"
      ],
      "execution_count": 49,
      "outputs": []
    },
    {
      "cell_type": "code",
      "metadata": {
        "id": "FYx2YnpQS2Z5"
      },
      "source": [
        "X_normalize = X.copy()\n",
        "X_normalize[[1, 2, 3]] = Normalizer().fit_transform(X[[1 , 2, 3]])"
      ],
      "execution_count": 50,
      "outputs": []
    },
    {
      "cell_type": "code",
      "metadata": {
        "id": "GFmBTOpjMlOQ",
        "colab": {
          "base_uri": "https://localhost:8080/",
          "height": 206
        },
        "outputId": "c3c4b858-6d95-447a-ec3a-1aac535249bd"
      },
      "source": [
        "X_normalize.head()"
      ],
      "execution_count": 51,
      "outputs": [
        {
          "output_type": "execute_result",
          "data": {
            "text/html": [
              "<div>\n",
              "<style scoped>\n",
              "    .dataframe tbody tr th:only-of-type {\n",
              "        vertical-align: middle;\n",
              "    }\n",
              "\n",
              "    .dataframe tbody tr th {\n",
              "        vertical-align: top;\n",
              "    }\n",
              "\n",
              "    .dataframe thead th {\n",
              "        text-align: right;\n",
              "    }\n",
              "</style>\n",
              "<table border=\"1\" class=\"dataframe\">\n",
              "  <thead>\n",
              "    <tr style=\"text-align: right;\">\n",
              "      <th></th>\n",
              "      <th>0</th>\n",
              "      <th>1</th>\n",
              "      <th>2</th>\n",
              "      <th>3</th>\n",
              "    </tr>\n",
              "  </thead>\n",
              "  <tbody>\n",
              "    <tr>\n",
              "      <th>0</th>\n",
              "      <td>1</td>\n",
              "      <td>0.001731</td>\n",
              "      <td>0.923076</td>\n",
              "      <td>0.384615</td>\n",
              "    </tr>\n",
              "    <tr>\n",
              "      <th>1</th>\n",
              "      <td>0</td>\n",
              "      <td>0.002668</td>\n",
              "      <td>0.970139</td>\n",
              "      <td>0.242535</td>\n",
              "    </tr>\n",
              "    <tr>\n",
              "      <th>2</th>\n",
              "      <td>4</td>\n",
              "      <td>0.001783</td>\n",
              "      <td>0.998231</td>\n",
              "      <td>0.059435</td>\n",
              "    </tr>\n",
              "    <tr>\n",
              "      <th>3</th>\n",
              "      <td>3</td>\n",
              "      <td>0.001435</td>\n",
              "      <td>0.902638</td>\n",
              "      <td>0.430397</td>\n",
              "    </tr>\n",
              "    <tr>\n",
              "      <th>4</th>\n",
              "      <td>3</td>\n",
              "      <td>0.000845</td>\n",
              "      <td>0.985622</td>\n",
              "      <td>0.168964</td>\n",
              "    </tr>\n",
              "  </tbody>\n",
              "</table>\n",
              "</div>"
            ],
            "text/plain": [
              "   0         1         2         3\n",
              "0  1  0.001731  0.923076  0.384615\n",
              "1  0  0.002668  0.970139  0.242535\n",
              "2  4  0.001783  0.998231  0.059435\n",
              "3  3  0.001435  0.902638  0.430397\n",
              "4  3  0.000845  0.985622  0.168964"
            ]
          },
          "metadata": {},
          "execution_count": 51
        }
      ]
    },
    {
      "cell_type": "markdown",
      "metadata": {
        "id": "ROR32FT2ldat"
      },
      "source": [
        "## MinMaxScaler"
      ]
    },
    {
      "cell_type": "markdown",
      "metadata": {
        "id": "NGVJOy0IlhzU"
      },
      "source": [
        "Outra alternativa a reescala de dados, seu diferencial se dá uma vez que este age sobre sobre a coluna.\n",
        "\n",
        "\n",
        "O cálculo da reescala é feito de forma independente entre cada coluna, de tal forma que a nova escala se dará entre 0 e 1 (ou -1 e 1 se houver valores negativos no dataset)\n",
        "\n",
        "\n",
        "> ***Importante ressaltar que essa técnica funciona melhor se a distribuição dos dados não for normal e se o desvio padrão for pequeno, além disso o MinMaxScaler não reduz de forma eficaz o impacto de outliers e também preserva a distribuição original.***\n",
        "\n"
      ]
    },
    {
      "cell_type": "markdown",
      "metadata": {
        "id": "BXGt53Sdy7FP"
      },
      "source": [
        "valor = ( valor — Coluna.min) / (Coluna.max — Coluna.min)"
      ]
    },
    {
      "cell_type": "code",
      "metadata": {
        "id": "pq5KuXBkpZT-"
      },
      "source": [
        "from sklearn.preprocessing import MinMaxScaler"
      ],
      "execution_count": 52,
      "outputs": []
    },
    {
      "cell_type": "code",
      "metadata": {
        "id": "jtpNIlvxl1G7"
      },
      "source": [
        "X_minMax = X.copy()\n",
        "X_minMax[[1, 2, 3]] = MinMaxScaler().fit_transform(X[[1, 2, 3]])"
      ],
      "execution_count": 53,
      "outputs": []
    },
    {
      "cell_type": "code",
      "metadata": {
        "colab": {
          "base_uri": "https://localhost:8080/",
          "height": 206
        },
        "id": "lEIEZU1Bl7ts",
        "outputId": "9b7964f4-7c9a-47ab-9347-20f03f18fca7"
      },
      "source": [
        "X_minMax.head()"
      ],
      "execution_count": 54,
      "outputs": [
        {
          "output_type": "execute_result",
          "data": {
            "text/html": [
              "<div>\n",
              "<style scoped>\n",
              "    .dataframe tbody tr th:only-of-type {\n",
              "        vertical-align: middle;\n",
              "    }\n",
              "\n",
              "    .dataframe tbody tr th {\n",
              "        vertical-align: top;\n",
              "    }\n",
              "\n",
              "    .dataframe thead th {\n",
              "        text-align: right;\n",
              "    }\n",
              "</style>\n",
              "<table border=\"1\" class=\"dataframe\">\n",
              "  <thead>\n",
              "    <tr style=\"text-align: right;\">\n",
              "      <th></th>\n",
              "      <th>0</th>\n",
              "      <th>1</th>\n",
              "      <th>2</th>\n",
              "      <th>3</th>\n",
              "    </tr>\n",
              "  </thead>\n",
              "  <tbody>\n",
              "    <tr>\n",
              "      <th>0</th>\n",
              "      <td>1</td>\n",
              "      <td>0.555556</td>\n",
              "      <td>0.607359</td>\n",
              "      <td>0.333333</td>\n",
              "    </tr>\n",
              "    <tr>\n",
              "      <th>1</th>\n",
              "      <td>0</td>\n",
              "      <td>0.044444</td>\n",
              "      <td>0.158627</td>\n",
              "      <td>0.037037</td>\n",
              "    </tr>\n",
              "    <tr>\n",
              "      <th>2</th>\n",
              "      <td>4</td>\n",
              "      <td>0.222222</td>\n",
              "      <td>0.405299</td>\n",
              "      <td>0.000000</td>\n",
              "    </tr>\n",
              "    <tr>\n",
              "      <th>3</th>\n",
              "      <td>3</td>\n",
              "      <td>0.088889</td>\n",
              "      <td>0.357752</td>\n",
              "      <td>0.229630</td>\n",
              "    </tr>\n",
              "    <tr>\n",
              "      <th>4</th>\n",
              "      <td>3</td>\n",
              "      <td>0.222222</td>\n",
              "      <td>0.915863</td>\n",
              "      <td>0.185185</td>\n",
              "    </tr>\n",
              "  </tbody>\n",
              "</table>\n",
              "</div>"
            ],
            "text/plain": [
              "   0         1         2         3\n",
              "0  1  0.555556  0.607359  0.333333\n",
              "1  0  0.044444  0.158627  0.037037\n",
              "2  4  0.222222  0.405299  0.000000\n",
              "3  3  0.088889  0.357752  0.229630\n",
              "4  3  0.222222  0.915863  0.185185"
            ]
          },
          "metadata": {},
          "execution_count": 54
        }
      ]
    },
    {
      "cell_type": "markdown",
      "metadata": {
        "id": "wagVJA95w-V1"
      },
      "source": [
        "## StandardScaler"
      ]
    },
    {
      "cell_type": "markdown",
      "metadata": {
        "id": "Y3yrO0IFxApN"
      },
      "source": [
        "Age sobre as colunas, seu método uma vez que este subtrai do valor em questão a média da coluna e divide o resultado pelo desvio padrão. No final temos uma distribuição de dados com desvio padrão igual a 1 e variância de 1 também."
      ]
    },
    {
      "cell_type": "markdown",
      "metadata": {
        "id": "nGMPhc7RxKYM"
      },
      "source": [
        "Esse método trabalha melhor em dados com distribuição normal porém vale a tentativa para outros tipos de distribuições, além disso podemos deixar como dica **que esse método resulta em ótimos frutos quando usado em conjunto com algoritmos como Linear Regression e Logistic Regression.**"
      ]
    },
    {
      "cell_type": "code",
      "metadata": {
        "id": "1xdG5kr_mQoL"
      },
      "source": [
        "from sklearn.preprocessing import StandardScaler"
      ],
      "execution_count": 55,
      "outputs": []
    },
    {
      "cell_type": "code",
      "metadata": {
        "id": "FW8uGlFpxUuV"
      },
      "source": [
        "X_standard = X.copy()\n",
        "X_standard[[1, 2, 3]] = StandardScaler().fit_transform(X[[1, 2, 3]])"
      ],
      "execution_count": 56,
      "outputs": []
    },
    {
      "cell_type": "code",
      "metadata": {
        "colab": {
          "base_uri": "https://localhost:8080/",
          "height": 206
        },
        "id": "mmTIFAnYxxeX",
        "outputId": "67a8b1fe-c5b8-4a2d-bec8-801c08475058"
      },
      "source": [
        "X_standard.head()"
      ],
      "execution_count": 57,
      "outputs": [
        {
          "output_type": "execute_result",
          "data": {
            "text/html": [
              "<div>\n",
              "<style scoped>\n",
              "    .dataframe tbody tr th:only-of-type {\n",
              "        vertical-align: middle;\n",
              "    }\n",
              "\n",
              "    .dataframe tbody tr th {\n",
              "        vertical-align: top;\n",
              "    }\n",
              "\n",
              "    .dataframe thead th {\n",
              "        text-align: right;\n",
              "    }\n",
              "</style>\n",
              "<table border=\"1\" class=\"dataframe\">\n",
              "  <thead>\n",
              "    <tr style=\"text-align: right;\">\n",
              "      <th></th>\n",
              "      <th>0</th>\n",
              "      <th>1</th>\n",
              "      <th>2</th>\n",
              "      <th>3</th>\n",
              "    </tr>\n",
              "  </thead>\n",
              "  <tbody>\n",
              "    <tr>\n",
              "      <th>0</th>\n",
              "      <td>1</td>\n",
              "      <td>1.002248</td>\n",
              "      <td>0.657862</td>\n",
              "      <td>0.415034</td>\n",
              "    </tr>\n",
              "    <tr>\n",
              "      <th>1</th>\n",
              "      <td>0</td>\n",
              "      <td>-0.907361</td>\n",
              "      <td>-0.803107</td>\n",
              "      <td>-0.770778</td>\n",
              "    </tr>\n",
              "    <tr>\n",
              "      <th>2</th>\n",
              "      <td>4</td>\n",
              "      <td>-0.243149</td>\n",
              "      <td>0.000000</td>\n",
              "      <td>-0.919005</td>\n",
              "    </tr>\n",
              "    <tr>\n",
              "      <th>3</th>\n",
              "      <td>3</td>\n",
              "      <td>-0.741308</td>\n",
              "      <td>-0.154802</td>\n",
              "      <td>0.000000</td>\n",
              "    </tr>\n",
              "    <tr>\n",
              "      <th>4</th>\n",
              "      <td>3</td>\n",
              "      <td>-0.243149</td>\n",
              "      <td>1.662279</td>\n",
              "      <td>-0.177872</td>\n",
              "    </tr>\n",
              "  </tbody>\n",
              "</table>\n",
              "</div>"
            ],
            "text/plain": [
              "   0         1         2         3\n",
              "0  1  1.002248  0.657862  0.415034\n",
              "1  0 -0.907361 -0.803107 -0.770778\n",
              "2  4 -0.243149  0.000000 -0.919005\n",
              "3  3 -0.741308 -0.154802  0.000000\n",
              "4  3 -0.243149  1.662279 -0.177872"
            ]
          },
          "metadata": {},
          "execution_count": 57
        }
      ]
    },
    {
      "cell_type": "markdown",
      "metadata": {
        "id": "fgm9ij5Bxbji"
      },
      "source": [
        "## RobustScaler"
      ]
    },
    {
      "cell_type": "markdown",
      "metadata": {
        "id": "VX0Etkjixf2t"
      },
      "source": [
        "Atua sobre as colunas e o diferencial deste método é a combinação com o uso de quartis o que nos garante um bom tratamento dos outliers."
      ]
    },
    {
      "cell_type": "markdown",
      "metadata": {
        "id": "JIvr9FO7xg26"
      },
      "source": [
        "Em seu método o RobustScaler subtrai a média do valor em questão e então divide o resultado pelo segundo quartil. \n",
        "\n",
        "> *Importante notar que os outliers ainda estão presentes porém estão representados dentro de uma escala em que o seu impacto negativo é reduzido.*\n",
        "\n"
      ]
    },
    {
      "cell_type": "markdown",
      "metadata": {
        "id": "5DxgUf9yzBMm"
      },
      "source": [
        "*valor = (valor — média) / desvio_padrão*"
      ]
    },
    {
      "cell_type": "code",
      "metadata": {
        "id": "kHFEwBr6xZB6"
      },
      "source": [
        "from sklearn.preprocessing import RobustScaler"
      ],
      "execution_count": 58,
      "outputs": []
    },
    {
      "cell_type": "code",
      "metadata": {
        "id": "kDne19KMxrvX"
      },
      "source": [
        "X_robust = X.copy()\n",
        "X_robust[[1, 2, 3]] = RobustScaler().fit_transform(X[[1, 2, 3]])"
      ],
      "execution_count": 59,
      "outputs": []
    },
    {
      "cell_type": "code",
      "metadata": {
        "colab": {
          "base_uri": "https://localhost:8080/",
          "height": 206
        },
        "id": "TULWK-UVxwIG",
        "outputId": "617586c2-c9c4-4407-f4c8-4e41ccbca6f2"
      },
      "source": [
        "X_robust.head()"
      ],
      "execution_count": 60,
      "outputs": [
        {
          "output_type": "execute_result",
          "data": {
            "text/html": [
              "<div>\n",
              "<style scoped>\n",
              "    .dataframe tbody tr th:only-of-type {\n",
              "        vertical-align: middle;\n",
              "    }\n",
              "\n",
              "    .dataframe tbody tr th {\n",
              "        vertical-align: top;\n",
              "    }\n",
              "\n",
              "    .dataframe thead th {\n",
              "        text-align: right;\n",
              "    }\n",
              "</style>\n",
              "<table border=\"1\" class=\"dataframe\">\n",
              "  <thead>\n",
              "    <tr style=\"text-align: right;\">\n",
              "      <th></th>\n",
              "      <th>0</th>\n",
              "      <th>1</th>\n",
              "      <th>2</th>\n",
              "      <th>3</th>\n",
              "    </tr>\n",
              "  </thead>\n",
              "  <tbody>\n",
              "    <tr>\n",
              "      <th>0</th>\n",
              "      <td>1</td>\n",
              "      <td>1.621622</td>\n",
              "      <td>0.535929</td>\n",
              "      <td>0.456376</td>\n",
              "    </tr>\n",
              "    <tr>\n",
              "      <th>1</th>\n",
              "      <td>0</td>\n",
              "      <td>-0.864865</td>\n",
              "      <td>-0.528963</td>\n",
              "      <td>-0.617450</td>\n",
              "    </tr>\n",
              "    <tr>\n",
              "      <th>2</th>\n",
              "      <td>4</td>\n",
              "      <td>0.000000</td>\n",
              "      <td>0.056417</td>\n",
              "      <td>-0.751678</td>\n",
              "    </tr>\n",
              "    <tr>\n",
              "      <th>3</th>\n",
              "      <td>3</td>\n",
              "      <td>-0.648649</td>\n",
              "      <td>-0.056417</td>\n",
              "      <td>0.080537</td>\n",
              "    </tr>\n",
              "    <tr>\n",
              "      <th>4</th>\n",
              "      <td>3</td>\n",
              "      <td>0.000000</td>\n",
              "      <td>1.268042</td>\n",
              "      <td>-0.080537</td>\n",
              "    </tr>\n",
              "  </tbody>\n",
              "</table>\n",
              "</div>"
            ],
            "text/plain": [
              "   0         1         2         3\n",
              "0  1  1.621622  0.535929  0.456376\n",
              "1  0 -0.864865 -0.528963 -0.617450\n",
              "2  4  0.000000  0.056417 -0.751678\n",
              "3  3 -0.648649 -0.056417  0.080537\n",
              "4  3  0.000000  1.268042 -0.080537"
            ]
          },
          "metadata": {},
          "execution_count": 60
        }
      ]
    },
    {
      "cell_type": "markdown",
      "metadata": {
        "id": "c2mUVQxQx6G9"
      },
      "source": [
        "## QuantileTransformer"
      ]
    },
    {
      "cell_type": "markdown",
      "metadata": {
        "id": "ktnSiGeax_Yn"
      },
      "source": [
        "Atua sobre as colunas e também trata os outliers com uso de quartis. Este método transforma os valores de tal forma que a distribuição tende a se aproximar de uma distribuição normal.\n",
        "\n",
        " > *Uma observação importante é que essa tranformação pode distorcer as correlações lineares entre as colunas.*\n",
        "\n",
        "\n",
        "Neste método todos os valores serão reescalados em um intervalo de 0 a 1 de tal forma que os outliers não poderão mais ser distinguidos logo ao contrário do RobustScaler o impacto da ação em cima dos outilers será grande.\n"
      ]
    },
    {
      "cell_type": "code",
      "metadata": {
        "id": "-570XPNEx1U-"
      },
      "source": [
        "from sklearn.preprocessing import QuantileTransformer"
      ],
      "execution_count": 61,
      "outputs": []
    },
    {
      "cell_type": "code",
      "metadata": {
        "colab": {
          "base_uri": "https://localhost:8080/"
        },
        "id": "nUhlHd3myPs9",
        "outputId": "b05e00a4-ff06-449a-edfe-86dadf4d0372"
      },
      "source": [
        "X_quantile = X.copy()\n",
        "X_quantile[[1, 2, 3]] = QuantileTransformer().fit_transform(X[[1, 2, 3]])"
      ],
      "execution_count": 62,
      "outputs": [
        {
          "output_type": "stream",
          "name": "stderr",
          "text": [
            "/usr/local/lib/python3.7/dist-packages/sklearn/preprocessing/_data.py:2593: UserWarning: n_quantiles (1000) is greater than the total number of samples (14). n_quantiles is set to n_samples.\n",
            "  \"n_samples.\" % (self.n_quantiles, n_samples)\n"
          ]
        }
      ]
    },
    {
      "cell_type": "code",
      "metadata": {
        "colab": {
          "base_uri": "https://localhost:8080/",
          "height": 206
        },
        "id": "vYQpwuGOySLO",
        "outputId": "d6305249-0ce0-4114-a2ef-259a99d8550c"
      },
      "source": [
        "X_quantile.head()"
      ],
      "execution_count": 63,
      "outputs": [
        {
          "output_type": "execute_result",
          "data": {
            "text/html": [
              "<div>\n",
              "<style scoped>\n",
              "    .dataframe tbody tr th:only-of-type {\n",
              "        vertical-align: middle;\n",
              "    }\n",
              "\n",
              "    .dataframe tbody tr th {\n",
              "        vertical-align: top;\n",
              "    }\n",
              "\n",
              "    .dataframe thead th {\n",
              "        text-align: right;\n",
              "    }\n",
              "</style>\n",
              "<table border=\"1\" class=\"dataframe\">\n",
              "  <thead>\n",
              "    <tr style=\"text-align: right;\">\n",
              "      <th></th>\n",
              "      <th>0</th>\n",
              "      <th>1</th>\n",
              "      <th>2</th>\n",
              "      <th>3</th>\n",
              "    </tr>\n",
              "  </thead>\n",
              "  <tbody>\n",
              "    <tr>\n",
              "      <th>0</th>\n",
              "      <td>1</td>\n",
              "      <td>0.846154</td>\n",
              "      <td>0.769231</td>\n",
              "      <td>0.769231</td>\n",
              "    </tr>\n",
              "    <tr>\n",
              "      <th>1</th>\n",
              "      <td>0</td>\n",
              "      <td>0.115385</td>\n",
              "      <td>0.307692</td>\n",
              "      <td>0.192308</td>\n",
              "    </tr>\n",
              "    <tr>\n",
              "      <th>2</th>\n",
              "      <td>4</td>\n",
              "      <td>0.538462</td>\n",
              "      <td>0.576923</td>\n",
              "      <td>0.000000</td>\n",
              "    </tr>\n",
              "    <tr>\n",
              "      <th>3</th>\n",
              "      <td>3</td>\n",
              "      <td>0.230769</td>\n",
              "      <td>0.461538</td>\n",
              "      <td>0.576923</td>\n",
              "    </tr>\n",
              "    <tr>\n",
              "      <th>4</th>\n",
              "      <td>3</td>\n",
              "      <td>0.538462</td>\n",
              "      <td>0.923077</td>\n",
              "      <td>0.461538</td>\n",
              "    </tr>\n",
              "  </tbody>\n",
              "</table>\n",
              "</div>"
            ],
            "text/plain": [
              "   0         1         2         3\n",
              "0  1  0.846154  0.769231  0.769231\n",
              "1  0  0.115385  0.307692  0.192308\n",
              "2  4  0.538462  0.576923  0.000000\n",
              "3  3  0.230769  0.461538  0.576923\n",
              "4  3  0.538462  0.923077  0.461538"
            ]
          },
          "metadata": {},
          "execution_count": 63
        }
      ]
    },
    {
      "cell_type": "markdown",
      "metadata": {
        "id": "hwDym4MCybJ6"
      },
      "source": [
        "## PowerTransformer"
      ]
    },
    {
      "cell_type": "markdown",
      "metadata": {
        "id": "mK6PYJneycYd"
      },
      "source": [
        "Atua sobre as colunas e assim como o Quantile procura transformar os valores em uma distribuição mais normal, sendo indicado em situações onde uma distribuição normal é desejada para os dados, além disso esse método ainda suporta os métodos de transformação."
      ]
    },
    {
      "cell_type": "code",
      "metadata": {
        "id": "8U_6_yRYyW2F"
      },
      "source": [
        "from sklearn.preprocessing import PowerTransformer"
      ],
      "execution_count": 64,
      "outputs": []
    },
    {
      "cell_type": "code",
      "metadata": {
        "id": "m3wZDyn7ynGE"
      },
      "source": [
        "X_power = X.copy()\n",
        "X_power[[1, 2, 3]] = PowerTransformer().fit_transform(X[[1, 2, 3]])"
      ],
      "execution_count": 65,
      "outputs": []
    },
    {
      "cell_type": "code",
      "metadata": {
        "colab": {
          "base_uri": "https://localhost:8080/",
          "height": 206
        },
        "id": "6Ff0tITsyod1",
        "outputId": "76a9b033-6e1d-4e83-fd1d-08734e2e189f"
      },
      "source": [
        "X_power.head()"
      ],
      "execution_count": 66,
      "outputs": [
        {
          "output_type": "execute_result",
          "data": {
            "text/html": [
              "<div>\n",
              "<style scoped>\n",
              "    .dataframe tbody tr th:only-of-type {\n",
              "        vertical-align: middle;\n",
              "    }\n",
              "\n",
              "    .dataframe tbody tr th {\n",
              "        vertical-align: top;\n",
              "    }\n",
              "\n",
              "    .dataframe thead th {\n",
              "        text-align: right;\n",
              "    }\n",
              "</style>\n",
              "<table border=\"1\" class=\"dataframe\">\n",
              "  <thead>\n",
              "    <tr style=\"text-align: right;\">\n",
              "      <th></th>\n",
              "      <th>0</th>\n",
              "      <th>1</th>\n",
              "      <th>2</th>\n",
              "      <th>3</th>\n",
              "    </tr>\n",
              "  </thead>\n",
              "  <tbody>\n",
              "    <tr>\n",
              "      <th>0</th>\n",
              "      <td>1</td>\n",
              "      <td>1.187872</td>\n",
              "      <td>0.768685</td>\n",
              "      <td>0.775384</td>\n",
              "    </tr>\n",
              "    <tr>\n",
              "      <th>1</th>\n",
              "      <td>0</td>\n",
              "      <td>-1.236273</td>\n",
              "      <td>-0.711676</td>\n",
              "      <td>-0.943097</td>\n",
              "    </tr>\n",
              "    <tr>\n",
              "      <th>2</th>\n",
              "      <td>4</td>\n",
              "      <td>0.053928</td>\n",
              "      <td>0.222110</td>\n",
              "      <td>-1.639884</td>\n",
              "    </tr>\n",
              "    <tr>\n",
              "      <th>3</th>\n",
              "      <td>3</td>\n",
              "      <td>-0.828650</td>\n",
              "      <td>0.072326</td>\n",
              "      <td>0.412848</td>\n",
              "    </tr>\n",
              "    <tr>\n",
              "      <th>4</th>\n",
              "      <td>3</td>\n",
              "      <td>0.053928</td>\n",
              "      <td>1.428193</td>\n",
              "      <td>0.214291</td>\n",
              "    </tr>\n",
              "  </tbody>\n",
              "</table>\n",
              "</div>"
            ],
            "text/plain": [
              "   0         1         2         3\n",
              "0  1  1.187872  0.768685  0.775384\n",
              "1  0 -1.236273 -0.711676 -0.943097\n",
              "2  4  0.053928  0.222110 -1.639884\n",
              "3  3 -0.828650  0.072326  0.412848\n",
              "4  3  0.053928  1.428193  0.214291"
            ]
          },
          "metadata": {},
          "execution_count": 66
        }
      ]
    },
    {
      "cell_type": "markdown",
      "metadata": {
        "id": "zNNN4BJ07Eb3"
      },
      "source": [
        "# Selecionando os melhores atributos"
      ]
    },
    {
      "cell_type": "markdown",
      "metadata": {
        "id": "pl4mWm97JK5H"
      },
      "source": [
        "Para entender como essa escolha é feita, ler o pdf  *Estatística para Seleção de Atributos*"
      ]
    },
    {
      "cell_type": "markdown",
      "metadata": {
        "id": "I8o6M5oZ7O_u"
      },
      "source": [
        "Um trabalho importante é selecionar os atributos que mais fazem sentido e agregam valor em nossa solução, isso faz com que tenhamos uma melhora em alguns modelos, pela returada de ruídos das variaveis extras, além de poupar a capacidade de processamento."
      ]
    },
    {
      "cell_type": "markdown",
      "metadata": {
        "id": "0zJY9lXU-94R"
      },
      "source": [
        "\n",
        "\n",
        "> Uma dica importante é que utilizamos o SelectKBest quando temos uma noção da quantidade de atributos que temos e a quantidade de atributos que queremos, já o SelectPercentile é mais utilizado quando não temos uma noção muito clara dos números de atributos.\n",
        "\n"
      ]
    },
    {
      "cell_type": "markdown",
      "metadata": {
        "id": "Widk2PY47z2g"
      },
      "source": [
        "## SelectKBest"
      ]
    },
    {
      "cell_type": "markdown",
      "metadata": {
        "id": "Q3uY4Haq7m-G"
      },
      "source": [
        "Para isso podemos contar com o SelectKBest do sklearn, onde o K representa o número máximo de atributos que desejamos ter em nosso dataset a ser “inputado” em nossa etapa de treino, dado o K o SelectKBest trata de encontrar os K melhores atributos a serem usados. \n",
        "\n",
        "\n",
        "*   **Importante ressaltar que aqui não existe uma melhor maneira de se escolher o valor para K a solução é tentar com diferentes valores e compararmos os resultados.**\n",
        "*    **O SelectKBest não suporta dados valores negativos, portanto todos os métodos de reescala que transformam os valores em um intervalo que possui negativos devem ser descartados caso você queira aplica-lo.**\n",
        "\n",
        "\n",
        "\n",
        "\n",
        "\n"
      ]
    },
    {
      "cell_type": "code",
      "metadata": {
        "id": "w58AYSOZytUH"
      },
      "source": [
        "from sklearn.feature_selection import SelectKBest\n",
        "from sklearn.feature_selection import chi2"
      ],
      "execution_count": 67,
      "outputs": []
    },
    {
      "cell_type": "markdown",
      "metadata": {
        "id": "nhtFskTr8OYn"
      },
      "source": [
        "Em nosso exemplo irei experimentar K = 2 pois possuímos 3 atributos e irei utilizar o método de reescala MinMaxScaler. O método fit_transform já nos retorna os valores dos atributos mais importantes por tanto podemos passar a usar o retorno como o nosso novo X."
      ]
    },
    {
      "cell_type": "code",
      "metadata": {
        "id": "AmeqUDI48IxP"
      },
      "source": [
        "X_new = SelectKBest(chi2, k=2)"
      ],
      "execution_count": 68,
      "outputs": []
    },
    {
      "cell_type": "markdown",
      "metadata": {
        "id": "ypIvelQU51UR"
      },
      "source": [
        "Nesse teste iremos usar o chi-quadrado, porém existem outros filtros. Metodo de escolha se da por:\n",
        "\n",
        "\n",
        "*   **Entrada numérica; Saída numérica (modelo de Regressão):** Correlação de Pearson para relações lineares. Correlação de Spearman para correlações não lineares.\n",
        "\n",
        "\n",
        "*   **Entrada numérica; Saída categórica (modelo de Classificação):** ANOVA\n",
        "\n",
        "*   **Entrada categórica; Saída categórica (modelo de Classificação):** Chi-quadrado\n",
        "\n",
        "Está bem definido no PDF Seleção de Variáveis (Parte 2). Entenda como utilizar o SelectKBest\n",
        "\n",
        "\n",
        "\n",
        "\n"
      ]
    },
    {
      "cell_type": "code",
      "metadata": {
        "id": "qclpqdCm60pB"
      },
      "source": [
        "X_new = X_new.fit_transform(X_minMax, Y)\n"
      ],
      "execution_count": 69,
      "outputs": []
    },
    {
      "cell_type": "code",
      "metadata": {
        "id": "_SIEtEz78Wt2"
      },
      "source": [
        "X_new2 = pd.DataFrame(X_new)"
      ],
      "execution_count": 73,
      "outputs": []
    },
    {
      "cell_type": "code",
      "metadata": {
        "colab": {
          "base_uri": "https://localhost:8080/",
          "height": 206
        },
        "id": "gPRbqRZj7Uco",
        "outputId": "989522ae-cf95-44a9-a873-1ec649bbe684"
      },
      "source": [
        "X_new2.head()"
      ],
      "execution_count": 74,
      "outputs": [
        {
          "output_type": "execute_result",
          "data": {
            "text/html": [
              "<div>\n",
              "<style scoped>\n",
              "    .dataframe tbody tr th:only-of-type {\n",
              "        vertical-align: middle;\n",
              "    }\n",
              "\n",
              "    .dataframe tbody tr th {\n",
              "        vertical-align: top;\n",
              "    }\n",
              "\n",
              "    .dataframe thead th {\n",
              "        text-align: right;\n",
              "    }\n",
              "</style>\n",
              "<table border=\"1\" class=\"dataframe\">\n",
              "  <thead>\n",
              "    <tr style=\"text-align: right;\">\n",
              "      <th></th>\n",
              "      <th>0</th>\n",
              "      <th>1</th>\n",
              "    </tr>\n",
              "  </thead>\n",
              "  <tbody>\n",
              "    <tr>\n",
              "      <th>0</th>\n",
              "      <td>0.607359</td>\n",
              "      <td>0.333333</td>\n",
              "    </tr>\n",
              "    <tr>\n",
              "      <th>1</th>\n",
              "      <td>0.158627</td>\n",
              "      <td>0.037037</td>\n",
              "    </tr>\n",
              "    <tr>\n",
              "      <th>2</th>\n",
              "      <td>0.405299</td>\n",
              "      <td>0</td>\n",
              "    </tr>\n",
              "    <tr>\n",
              "      <th>3</th>\n",
              "      <td>0.357752</td>\n",
              "      <td>0.22963</td>\n",
              "    </tr>\n",
              "    <tr>\n",
              "      <th>4</th>\n",
              "      <td>0.915863</td>\n",
              "      <td>0.185185</td>\n",
              "    </tr>\n",
              "  </tbody>\n",
              "</table>\n",
              "</div>"
            ],
            "text/plain": [
              "          0         1\n",
              "0  0.607359  0.333333\n",
              "1  0.158627  0.037037\n",
              "2  0.405299         0\n",
              "3  0.357752   0.22963\n",
              "4  0.915863  0.185185"
            ]
          },
          "metadata": {},
          "execution_count": 74
        }
      ]
    },
    {
      "cell_type": "markdown",
      "metadata": {
        "id": "JlgO46LS72go"
      },
      "source": [
        "## SelectFromModel"
      ]
    },
    {
      "cell_type": "markdown",
      "metadata": {
        "id": "vA_i7Jpk8KGb"
      },
      "source": [
        "A diferença do SelectFromModel se dá na forma como ele escolhe os melhores atributos, uma vez que esta escolha está atrelada a importância de um atributo para um dado modelo, além disso podemos definir um valor limite(threshold) a partir do qual passamos a considerar um atributo como importante."
      ]
    },
    {
      "cell_type": "markdown",
      "metadata": {
        "id": "TIaatFKP90GC"
      },
      "source": [
        "Em nosso exemplo irei atrelar SelectFromModel com o classificador ExtraTreesClassifier. Ainda sobre o valor limite(threshold), podemos passar alguns valores no SelectFromModel ou não(None), caso não seja passado nada o limite utilizado por padrão será 1e-5, também podemos passar uma string “median” onde a média da importância dos atributos será o limite ou ainda podemos passar qualquer valor que desejamos."
      ]
    },
    {
      "cell_type": "code",
      "metadata": {
        "id": "OKfy9vYo7rH4"
      },
      "source": [
        "from sklearn.ensemble import ExtraTreesClassifier\n",
        "from sklearn.feature_selection import SelectFromModel"
      ],
      "execution_count": 75,
      "outputs": []
    },
    {
      "cell_type": "code",
      "metadata": {
        "colab": {
          "base_uri": "https://localhost:8080/"
        },
        "id": "wqhRRgsv92H7",
        "outputId": "e9269774-54f1-4e7d-dc01-71b90e48c527"
      },
      "source": [
        "clf = ExtraTreesClassifier()\n",
        "clf = clf.fit(X, Y)\n",
        "clf.feature_importances_ #Mostra a importância de cada atributo"
      ],
      "execution_count": 77,
      "outputs": [
        {
          "output_type": "execute_result",
          "data": {
            "text/plain": [
              "array([0.07224916, 0.18863602, 0.33686601, 0.40224882])"
            ]
          },
          "metadata": {},
          "execution_count": 77
        }
      ]
    },
    {
      "cell_type": "code",
      "metadata": {
        "id": "IEGGNK-4932o"
      },
      "source": [
        "model = SelectFromModel(clf, prefit=True, threshold=\"median\")\n",
        "X_new = model.transform(X_minMax)"
      ],
      "execution_count": 79,
      "outputs": []
    },
    {
      "cell_type": "code",
      "metadata": {
        "colab": {
          "base_uri": "https://localhost:8080/",
          "height": 206
        },
        "id": "SeZrXbud99nh",
        "outputId": "a3c90e51-a132-480e-bae5-e53f576386a4"
      },
      "source": [
        "X_new2 = pd.DataFrame(X_new)\n",
        "X_new2.head()"
      ],
      "execution_count": 81,
      "outputs": [
        {
          "output_type": "execute_result",
          "data": {
            "text/html": [
              "<div>\n",
              "<style scoped>\n",
              "    .dataframe tbody tr th:only-of-type {\n",
              "        vertical-align: middle;\n",
              "    }\n",
              "\n",
              "    .dataframe tbody tr th {\n",
              "        vertical-align: top;\n",
              "    }\n",
              "\n",
              "    .dataframe thead th {\n",
              "        text-align: right;\n",
              "    }\n",
              "</style>\n",
              "<table border=\"1\" class=\"dataframe\">\n",
              "  <thead>\n",
              "    <tr style=\"text-align: right;\">\n",
              "      <th></th>\n",
              "      <th>0</th>\n",
              "      <th>1</th>\n",
              "    </tr>\n",
              "  </thead>\n",
              "  <tbody>\n",
              "    <tr>\n",
              "      <th>0</th>\n",
              "      <td>0.607359</td>\n",
              "      <td>0.333333</td>\n",
              "    </tr>\n",
              "    <tr>\n",
              "      <th>1</th>\n",
              "      <td>0.158627</td>\n",
              "      <td>0.037037</td>\n",
              "    </tr>\n",
              "    <tr>\n",
              "      <th>2</th>\n",
              "      <td>0.405299</td>\n",
              "      <td>0</td>\n",
              "    </tr>\n",
              "    <tr>\n",
              "      <th>3</th>\n",
              "      <td>0.357752</td>\n",
              "      <td>0.22963</td>\n",
              "    </tr>\n",
              "    <tr>\n",
              "      <th>4</th>\n",
              "      <td>0.915863</td>\n",
              "      <td>0.185185</td>\n",
              "    </tr>\n",
              "  </tbody>\n",
              "</table>\n",
              "</div>"
            ],
            "text/plain": [
              "          0         1\n",
              "0  0.607359  0.333333\n",
              "1  0.158627  0.037037\n",
              "2  0.405299         0\n",
              "3  0.357752   0.22963\n",
              "4  0.915863  0.185185"
            ]
          },
          "metadata": {},
          "execution_count": 81
        }
      ]
    },
    {
      "cell_type": "markdown",
      "metadata": {
        "id": "sxFvWHX--rpV"
      },
      "source": [
        "## SelectPercentile"
      ]
    },
    {
      "cell_type": "markdown",
      "metadata": {
        "id": "bTK8-7rm-zUp"
      },
      "source": [
        "Similar ao SelectKBest, a diferença se dá que no SelectPercentile iremos passar um atributo chamado percentile que irá selecionar a porcentagem indicada dos melhores atributos, por padrão esse valor é 10"
      ]
    },
    {
      "cell_type": "code",
      "metadata": {
        "id": "58aUHPYU-CeQ"
      },
      "source": [
        "from sklearn.feature_selection import SelectPercentile"
      ],
      "execution_count": 82,
      "outputs": []
    },
    {
      "cell_type": "code",
      "metadata": {
        "id": "7pb_ziLA_QLY"
      },
      "source": [
        "X_new = SelectPercentile(chi2, percentile=10).fit_transform(X, Y)"
      ],
      "execution_count": 84,
      "outputs": []
    },
    {
      "cell_type": "code",
      "metadata": {
        "colab": {
          "base_uri": "https://localhost:8080/"
        },
        "id": "adUR9pe7_c55",
        "outputId": "00c548ac-a422-4337-adde-625d1d3e3dcf"
      },
      "source": [
        "X_new"
      ],
      "execution_count": 85,
      "outputs": [
        {
          "output_type": "execute_result",
          "data": {
            "text/plain": [
              "array([[24000.0],\n",
              "       [8000.0],\n",
              "       [16795.333333333332],\n",
              "       [15100.0],\n",
              "       [35000.0],\n",
              "       [5300.0],\n",
              "       [16795.333333333332],\n",
              "       [18000.0],\n",
              "       [38000.0],\n",
              "       [7300.0],\n",
              "       [2344.0],\n",
              "       [4500.0],\n",
              "       [30000.0],\n",
              "       [14000.0]], dtype=object)"
            ]
          },
          "metadata": {},
          "execution_count": 85
        }
      ]
    },
    {
      "cell_type": "code",
      "metadata": {
        "colab": {
          "base_uri": "https://localhost:8080/"
        },
        "id": "jHfGq8Zk_ooD",
        "outputId": "8bfd79e5-73e1-4d2a-c2c4-fa8f5638fbfa"
      },
      "source": [
        "X_new.shape"
      ],
      "execution_count": 87,
      "outputs": [
        {
          "output_type": "execute_result",
          "data": {
            "text/plain": [
              "(14, 1)"
            ]
          },
          "metadata": {},
          "execution_count": 87
        }
      ]
    },
    {
      "cell_type": "code",
      "metadata": {
        "colab": {
          "base_uri": "https://localhost:8080/",
          "height": 206
        },
        "id": "zkyPKYbb_lO0",
        "outputId": "e3b196b8-4234-4273-9a70-25bc692abedf"
      },
      "source": [
        "X_new2 = pd.DataFrame(X_new)\n",
        "X_new2.head()"
      ],
      "execution_count": 86,
      "outputs": [
        {
          "output_type": "execute_result",
          "data": {
            "text/html": [
              "<div>\n",
              "<style scoped>\n",
              "    .dataframe tbody tr th:only-of-type {\n",
              "        vertical-align: middle;\n",
              "    }\n",
              "\n",
              "    .dataframe tbody tr th {\n",
              "        vertical-align: top;\n",
              "    }\n",
              "\n",
              "    .dataframe thead th {\n",
              "        text-align: right;\n",
              "    }\n",
              "</style>\n",
              "<table border=\"1\" class=\"dataframe\">\n",
              "  <thead>\n",
              "    <tr style=\"text-align: right;\">\n",
              "      <th></th>\n",
              "      <th>0</th>\n",
              "    </tr>\n",
              "  </thead>\n",
              "  <tbody>\n",
              "    <tr>\n",
              "      <th>0</th>\n",
              "      <td>24000</td>\n",
              "    </tr>\n",
              "    <tr>\n",
              "      <th>1</th>\n",
              "      <td>8000</td>\n",
              "    </tr>\n",
              "    <tr>\n",
              "      <th>2</th>\n",
              "      <td>16795.3</td>\n",
              "    </tr>\n",
              "    <tr>\n",
              "      <th>3</th>\n",
              "      <td>15100</td>\n",
              "    </tr>\n",
              "    <tr>\n",
              "      <th>4</th>\n",
              "      <td>35000</td>\n",
              "    </tr>\n",
              "  </tbody>\n",
              "</table>\n",
              "</div>"
            ],
            "text/plain": [
              "         0\n",
              "0    24000\n",
              "1     8000\n",
              "2  16795.3\n",
              "3    15100\n",
              "4    35000"
            ]
          },
          "metadata": {},
          "execution_count": 86
        }
      ]
    },
    {
      "cell_type": "markdown",
      "metadata": {
        "id": "uKpXKIog_tOF"
      },
      "source": [
        "## PCA"
      ]
    },
    {
      "cell_type": "markdown",
      "metadata": {
        "id": "gPwWWsa2GxWB"
      },
      "source": [
        "Podemos aplicar a técnica PCA nos atributos escolhidos, de forma grossa o PCA nada mais é que uma técnica a qual transforma atributos com uma certa correlação em um único atributo. O PCA deve ser aplicado apenas em casos em que o seu dataset possui muitas colunas, realmente um número muito grande e o treino do seu modelo acaba por ser muito demorado ou inviável devido ao alto número de colunas, uma vez que o PCA é uma técnica na qual sempre haverá perda de informações. \n",
        "\n",
        "Em nosso exemplo o PCA será aplicado de forma meramente ilustrativa uma vez que não possuímos muitas colunas. O atributo n_components representa quantos atributos queremos deixar, outra ideia é utilizar o parâmetro n_components=\"mle\" dado isto Minka's MLE será utilizado para escolher a melhor dimensão a ser mantida no seu caso"
      ]
    },
    {
      "cell_type": "code",
      "metadata": {
        "id": "Zdm0Mxkq_nrD"
      },
      "source": [
        "from sklearn.decomposition import PCA"
      ],
      "execution_count": 88,
      "outputs": []
    },
    {
      "cell_type": "code",
      "metadata": {
        "id": "euY_bUb8G6mi"
      },
      "source": [
        "pca = PCA(n_components=\"mle\")\n",
        "X_new = pca.fit_transform(X_minMax)"
      ],
      "execution_count": 89,
      "outputs": []
    },
    {
      "cell_type": "code",
      "metadata": {
        "colab": {
          "base_uri": "https://localhost:8080/",
          "height": 206
        },
        "id": "QOS3vEcZG91B",
        "outputId": "a64a3b6b-1faa-4214-be77-55722a1b35c8"
      },
      "source": [
        "X_new2 = pd.DataFrame(X_new)\n",
        "X_new2.head()"
      ],
      "execution_count": 90,
      "outputs": [
        {
          "output_type": "execute_result",
          "data": {
            "text/html": [
              "<div>\n",
              "<style scoped>\n",
              "    .dataframe tbody tr th:only-of-type {\n",
              "        vertical-align: middle;\n",
              "    }\n",
              "\n",
              "    .dataframe tbody tr th {\n",
              "        vertical-align: top;\n",
              "    }\n",
              "\n",
              "    .dataframe thead th {\n",
              "        text-align: right;\n",
              "    }\n",
              "</style>\n",
              "<table border=\"1\" class=\"dataframe\">\n",
              "  <thead>\n",
              "    <tr style=\"text-align: right;\">\n",
              "      <th></th>\n",
              "      <th>0</th>\n",
              "      <th>1</th>\n",
              "    </tr>\n",
              "  </thead>\n",
              "  <tbody>\n",
              "    <tr>\n",
              "      <th>0</th>\n",
              "      <td>1.297229</td>\n",
              "      <td>0.287010</td>\n",
              "    </tr>\n",
              "    <tr>\n",
              "      <th>1</th>\n",
              "      <td>2.270303</td>\n",
              "      <td>-0.471130</td>\n",
              "    </tr>\n",
              "    <tr>\n",
              "      <th>2</th>\n",
              "      <td>-1.715449</td>\n",
              "      <td>-0.105402</td>\n",
              "    </tr>\n",
              "    <tr>\n",
              "      <th>3</th>\n",
              "      <td>-0.719394</td>\n",
              "      <td>-0.113741</td>\n",
              "    </tr>\n",
              "    <tr>\n",
              "      <th>4</th>\n",
              "      <td>-0.699153</td>\n",
              "      <td>0.283764</td>\n",
              "    </tr>\n",
              "  </tbody>\n",
              "</table>\n",
              "</div>"
            ],
            "text/plain": [
              "          0         1\n",
              "0  1.297229  0.287010\n",
              "1  2.270303 -0.471130\n",
              "2 -1.715449 -0.105402\n",
              "3 -0.719394 -0.113741\n",
              "4 -0.699153  0.283764"
            ]
          },
          "metadata": {},
          "execution_count": 90
        }
      ]
    },
    {
      "cell_type": "markdown",
      "metadata": {
        "id": "O-wA85DqHClE"
      },
      "source": [
        "# Separando os dados em um conjunto de treino e de teste"
      ]
    },
    {
      "cell_type": "markdown",
      "metadata": {
        "id": "_nf_Z09WHwkT"
      },
      "source": [
        "## Train_test_split"
      ]
    },
    {
      "cell_type": "markdown",
      "metadata": {
        "id": "1tAPtHCzHbY6"
      },
      "source": [
        "Irei continuar utilizando os atributos da variável X reescalados com o MinMaxScaler. Aqui iremos separar em 4 subconjuntos, X_train com as variáveis de input para treino do modelo e Y_train com os resultados de predição para treino, ambos serão utilizados mais tarde no método fit do seu modelo, X_test com as variáveis de input para test e Y_test com os resultados da predição para testes, o X_test será utilizado no método predict do seu modelo e o Y_test será utilizado para comparar com resultado retornado do seu método predict. \n",
        "O parâmetro test_size serve para indicar que o nosso conjunto de teste terá um tamanho de 20% em relação ao tamanho do dataset e o parâmetro random_state nos permite garantir que a separação dos conjuntos de teste e treino será sempre o mesmo, com a “semente” de aleatoriedade “semeada” sempre no valor indicado."
      ]
    },
    {
      "cell_type": "code",
      "metadata": {
        "id": "T37ACKYbHFgx"
      },
      "source": [
        "from sklearn.model_selection import train_test_split"
      ],
      "execution_count": 91,
      "outputs": []
    },
    {
      "cell_type": "code",
      "metadata": {
        "id": "LD2m5JdtHgUR"
      },
      "source": [
        "X_train, X_test, Y_train, Y_test = train_test_split(X_minMax, Y, test_size = 0.2, random_state = 0)"
      ],
      "execution_count": 92,
      "outputs": []
    },
    {
      "cell_type": "code",
      "metadata": {
        "colab": {
          "base_uri": "https://localhost:8080/",
          "height": 394
        },
        "id": "FzVvf735Hlfq",
        "outputId": "cc58b81b-fa42-4c45-abbb-4d68f83c2af5"
      },
      "source": [
        "X_train"
      ],
      "execution_count": 93,
      "outputs": [
        {
          "output_type": "execute_result",
          "data": {
            "text/html": [
              "<div>\n",
              "<style scoped>\n",
              "    .dataframe tbody tr th:only-of-type {\n",
              "        vertical-align: middle;\n",
              "    }\n",
              "\n",
              "    .dataframe tbody tr th {\n",
              "        vertical-align: top;\n",
              "    }\n",
              "\n",
              "    .dataframe thead th {\n",
              "        text-align: right;\n",
              "    }\n",
              "</style>\n",
              "<table border=\"1\" class=\"dataframe\">\n",
              "  <thead>\n",
              "    <tr style=\"text-align: right;\">\n",
              "      <th></th>\n",
              "      <th>0</th>\n",
              "      <th>1</th>\n",
              "      <th>2</th>\n",
              "      <th>3</th>\n",
              "    </tr>\n",
              "  </thead>\n",
              "  <tbody>\n",
              "    <tr>\n",
              "      <th>11</th>\n",
              "      <td>4</td>\n",
              "      <td>0.177778</td>\n",
              "      <td>0.060467</td>\n",
              "      <td>0.044444</td>\n",
              "    </tr>\n",
              "    <tr>\n",
              "      <th>2</th>\n",
              "      <td>4</td>\n",
              "      <td>0.222222</td>\n",
              "      <td>0.405299</td>\n",
              "      <td>0.000000</td>\n",
              "    </tr>\n",
              "    <tr>\n",
              "      <th>13</th>\n",
              "      <td>4</td>\n",
              "      <td>0.222222</td>\n",
              "      <td>0.326902</td>\n",
              "      <td>0.333333</td>\n",
              "    </tr>\n",
              "    <tr>\n",
              "      <th>9</th>\n",
              "      <td>0</td>\n",
              "      <td>0.266667</td>\n",
              "      <td>0.138995</td>\n",
              "      <td>0.111111</td>\n",
              "    </tr>\n",
              "    <tr>\n",
              "      <th>1</th>\n",
              "      <td>0</td>\n",
              "      <td>0.044444</td>\n",
              "      <td>0.158627</td>\n",
              "      <td>0.037037</td>\n",
              "    </tr>\n",
              "    <tr>\n",
              "      <th>7</th>\n",
              "      <td>1</td>\n",
              "      <td>0.666667</td>\n",
              "      <td>0.439085</td>\n",
              "      <td>0.259259</td>\n",
              "    </tr>\n",
              "    <tr>\n",
              "      <th>10</th>\n",
              "      <td>4</td>\n",
              "      <td>0.333333</td>\n",
              "      <td>0.000000</td>\n",
              "      <td>0.229630</td>\n",
              "    </tr>\n",
              "    <tr>\n",
              "      <th>3</th>\n",
              "      <td>3</td>\n",
              "      <td>0.088889</td>\n",
              "      <td>0.357752</td>\n",
              "      <td>0.229630</td>\n",
              "    </tr>\n",
              "    <tr>\n",
              "      <th>0</th>\n",
              "      <td>1</td>\n",
              "      <td>0.555556</td>\n",
              "      <td>0.607359</td>\n",
              "      <td>0.333333</td>\n",
              "    </tr>\n",
              "    <tr>\n",
              "      <th>5</th>\n",
              "      <td>4</td>\n",
              "      <td>0.044444</td>\n",
              "      <td>0.082903</td>\n",
              "      <td>0.037037</td>\n",
              "    </tr>\n",
              "    <tr>\n",
              "      <th>12</th>\n",
              "      <td>2</td>\n",
              "      <td>0.177778</td>\n",
              "      <td>0.775634</td>\n",
              "      <td>0.407407</td>\n",
              "    </tr>\n",
              "  </tbody>\n",
              "</table>\n",
              "</div>"
            ],
            "text/plain": [
              "    0         1         2         3\n",
              "11  4  0.177778  0.060467  0.044444\n",
              "2   4  0.222222  0.405299  0.000000\n",
              "13  4  0.222222  0.326902  0.333333\n",
              "9   0  0.266667  0.138995  0.111111\n",
              "1   0  0.044444  0.158627  0.037037\n",
              "7   1  0.666667  0.439085  0.259259\n",
              "10  4  0.333333  0.000000  0.229630\n",
              "3   3  0.088889  0.357752  0.229630\n",
              "0   1  0.555556  0.607359  0.333333\n",
              "5   4  0.044444  0.082903  0.037037\n",
              "12  2  0.177778  0.775634  0.407407"
            ]
          },
          "metadata": {},
          "execution_count": 93
        }
      ]
    },
    {
      "cell_type": "code",
      "metadata": {
        "colab": {
          "base_uri": "https://localhost:8080/",
          "height": 143
        },
        "id": "q9mDVXcbHpjZ",
        "outputId": "f2899f23-43f4-4d68-beee-52fe38e65101"
      },
      "source": [
        "X_test"
      ],
      "execution_count": 94,
      "outputs": [
        {
          "output_type": "execute_result",
          "data": {
            "text/html": [
              "<div>\n",
              "<style scoped>\n",
              "    .dataframe tbody tr th:only-of-type {\n",
              "        vertical-align: middle;\n",
              "    }\n",
              "\n",
              "    .dataframe tbody tr th {\n",
              "        vertical-align: top;\n",
              "    }\n",
              "\n",
              "    .dataframe thead th {\n",
              "        text-align: right;\n",
              "    }\n",
              "</style>\n",
              "<table border=\"1\" class=\"dataframe\">\n",
              "  <thead>\n",
              "    <tr style=\"text-align: right;\">\n",
              "      <th></th>\n",
              "      <th>0</th>\n",
              "      <th>1</th>\n",
              "      <th>2</th>\n",
              "      <th>3</th>\n",
              "    </tr>\n",
              "  </thead>\n",
              "  <tbody>\n",
              "    <tr>\n",
              "      <th>8</th>\n",
              "      <td>2</td>\n",
              "      <td>1.000000</td>\n",
              "      <td>1.000000</td>\n",
              "      <td>1.000000</td>\n",
              "    </tr>\n",
              "    <tr>\n",
              "      <th>6</th>\n",
              "      <td>0</td>\n",
              "      <td>0.000000</td>\n",
              "      <td>0.405299</td>\n",
              "      <td>0.007407</td>\n",
              "    </tr>\n",
              "    <tr>\n",
              "      <th>4</th>\n",
              "      <td>3</td>\n",
              "      <td>0.222222</td>\n",
              "      <td>0.915863</td>\n",
              "      <td>0.185185</td>\n",
              "    </tr>\n",
              "  </tbody>\n",
              "</table>\n",
              "</div>"
            ],
            "text/plain": [
              "   0         1         2         3\n",
              "8  2  1.000000  1.000000  1.000000\n",
              "6  0  0.000000  0.405299  0.007407\n",
              "4  3  0.222222  0.915863  0.185185"
            ]
          },
          "metadata": {},
          "execution_count": 94
        }
      ]
    },
    {
      "cell_type": "markdown",
      "metadata": {
        "id": "lXZRoY4uHzkK"
      },
      "source": [
        "## KFold"
      ]
    },
    {
      "cell_type": "markdown",
      "metadata": {
        "id": "nLc-8Lm9H5dG"
      },
      "source": [
        "O KFold facilita que possamos separar o nosso conjunto de dadas em conjunto de treinos e teste K vezes (indicado no parâmetro n_splits) e portanto fazer o treino e validar os resultados para 3 conjuntos diferentes de treino e teste. Antes precisamos colocar a nossa variável X em um formato de array."
      ]
    },
    {
      "cell_type": "code",
      "metadata": {
        "id": "X0PaGVcJHrLS"
      },
      "source": [
        "X_new = X_minMax.values"
      ],
      "execution_count": 95,
      "outputs": []
    },
    {
      "cell_type": "code",
      "metadata": {
        "id": "cQCLL0VdH8cZ"
      },
      "source": [
        "from sklearn.model_selection import KFold"
      ],
      "execution_count": 96,
      "outputs": []
    },
    {
      "cell_type": "code",
      "metadata": {
        "id": "CBIn9fD_ICZz"
      },
      "source": [
        "kf = KFold(n_splits=2)"
      ],
      "execution_count": 98,
      "outputs": []
    },
    {
      "cell_type": "code",
      "metadata": {
        "colab": {
          "base_uri": "https://localhost:8080/"
        },
        "id": "j4Dwbu1dH-HR",
        "outputId": "61ffd2dd-5646-4921-ebae-63061dc39ca3"
      },
      "source": [
        "time = 1\n",
        "for train_index, test_index in kf.split(X_new):\n",
        "    print(\"K = \" + str(time) +  \" - TRAIN:\", train_index, \"TEST:\",  \n",
        "    test_index)\n",
        "    X_train, X_test = X_new[train_index], X_new[test_index]\n",
        "    y_train, y_test = Y[train_index], Y[test_index]\n",
        "    time += 1"
      ],
      "execution_count": 99,
      "outputs": [
        {
          "output_type": "stream",
          "name": "stdout",
          "text": [
            "K = 1 - TRAIN: [ 7  8  9 10 11 12 13] TEST: [0 1 2 3 4 5 6]\n",
            "K = 2 - TRAIN: [0 1 2 3 4 5 6] TEST: [ 7  8  9 10 11 12 13]\n"
          ]
        }
      ]
    }
  ]
}