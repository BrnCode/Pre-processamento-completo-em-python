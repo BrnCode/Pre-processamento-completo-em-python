{
  "nbformat": 4,
  "nbformat_minor": 0,
  "metadata": {
    "colab": {
      "name": "Pré-processameto de dados.ipynb",
      "provenance": [],
      "collapsed_sections": [
        "4ue_XgIbu1x1",
        "pM1Ph5ogGBnM"
      ],
      "authorship_tag": "ABX9TyOLyvt1X8crjgSG4QKkzpJx",
      "include_colab_link": true
    },
    "kernelspec": {
      "name": "python3",
      "display_name": "Python 3"
    },
    "language_info": {
      "name": "python"
    }
  },
  "cells": [
    {
      "cell_type": "markdown",
      "metadata": {
        "id": "view-in-github",
        "colab_type": "text"
      },
      "source": [
        "<a href=\"https://colab.research.google.com/github/BrnCode/Pre-processamento-completo-em-python/blob/main/Pr%C3%A9_processameto_de_dados.ipynb\" target=\"_parent\"><img src=\"https://colab.research.google.com/assets/colab-badge.svg\" alt=\"Open In Colab\"/></a>"
      ]
    },
    {
      "cell_type": "code",
      "metadata": {
        "id": "FdfzbiDscS2d"
      },
      "source": [
        "import numpy as np\n",
        "import pandas as pd"
      ],
      "execution_count": 129,
      "outputs": []
    },
    {
      "cell_type": "code",
      "metadata": {
        "id": "atfPJMQ6seA2"
      },
      "source": [
        "dataset = pd.read_csv(\"fake_data.csv\") #importando dataset"
      ],
      "execution_count": 131,
      "outputs": []
    },
    {
      "cell_type": "code",
      "metadata": {
        "colab": {
          "base_uri": "https://localhost:8080/",
          "height": 206
        },
        "id": "1ONh8RoZtJ3Z",
        "outputId": "740cbd2b-a8a1-41fe-9ff7-14a71b6067ea"
      },
      "source": [
        "dataset.head()"
      ],
      "execution_count": 132,
      "outputs": [
        {
          "output_type": "execute_result",
          "data": {
            "text/html": [
              "<div>\n",
              "<style scoped>\n",
              "    .dataframe tbody tr th:only-of-type {\n",
              "        vertical-align: middle;\n",
              "    }\n",
              "\n",
              "    .dataframe tbody tr th {\n",
              "        vertical-align: top;\n",
              "    }\n",
              "\n",
              "    .dataframe thead th {\n",
              "        text-align: right;\n",
              "    }\n",
              "</style>\n",
              "<table border=\"1\" class=\"dataframe\">\n",
              "  <thead>\n",
              "    <tr style=\"text-align: right;\">\n",
              "      <th></th>\n",
              "      <th>cargo</th>\n",
              "      <th>idade</th>\n",
              "      <th>salario</th>\n",
              "      <th>bonus</th>\n",
              "      <th>sócio</th>\n",
              "    </tr>\n",
              "  </thead>\n",
              "  <tbody>\n",
              "    <tr>\n",
              "      <th>0</th>\n",
              "      <td>Diretor</td>\n",
              "      <td>45</td>\n",
              "      <td>24000.0</td>\n",
              "      <td>10000.0</td>\n",
              "      <td>sim</td>\n",
              "    </tr>\n",
              "    <tr>\n",
              "      <th>1</th>\n",
              "      <td>Analista</td>\n",
              "      <td>22</td>\n",
              "      <td>8000.0</td>\n",
              "      <td>2000.0</td>\n",
              "      <td>não</td>\n",
              "    </tr>\n",
              "    <tr>\n",
              "      <th>2</th>\n",
              "      <td>Programador</td>\n",
              "      <td>30</td>\n",
              "      <td>NaN</td>\n",
              "      <td>1000.0</td>\n",
              "      <td>não</td>\n",
              "    </tr>\n",
              "    <tr>\n",
              "      <th>3</th>\n",
              "      <td>Gerente</td>\n",
              "      <td>24</td>\n",
              "      <td>15100.0</td>\n",
              "      <td>NaN</td>\n",
              "      <td>não</td>\n",
              "    </tr>\n",
              "    <tr>\n",
              "      <th>4</th>\n",
              "      <td>Gerente</td>\n",
              "      <td>30</td>\n",
              "      <td>35000.0</td>\n",
              "      <td>6000.0</td>\n",
              "      <td>sim</td>\n",
              "    </tr>\n",
              "  </tbody>\n",
              "</table>\n",
              "</div>"
            ],
            "text/plain": [
              "         cargo  idade  salario    bonus sócio\n",
              "0      Diretor     45  24000.0  10000.0   sim\n",
              "1     Analista     22   8000.0   2000.0   não\n",
              "2  Programador     30      NaN   1000.0   não\n",
              "3      Gerente     24  15100.0      NaN   não\n",
              "4      Gerente     30  35000.0   6000.0   sim"
            ]
          },
          "metadata": {},
          "execution_count": 132
        }
      ]
    },
    {
      "cell_type": "code",
      "metadata": {
        "colab": {
          "base_uri": "https://localhost:8080/",
          "height": 488
        },
        "id": "W6QeY19VtRxN",
        "outputId": "3c5763ac-af18-47c9-ff44-aee6db5718d7"
      },
      "source": [
        "dataset # Dataset simples com 14 linhas e 5 colunas, com variaveis numéricas faltando e variaveis categoricas."
      ],
      "execution_count": 133,
      "outputs": [
        {
          "output_type": "execute_result",
          "data": {
            "text/html": [
              "<div>\n",
              "<style scoped>\n",
              "    .dataframe tbody tr th:only-of-type {\n",
              "        vertical-align: middle;\n",
              "    }\n",
              "\n",
              "    .dataframe tbody tr th {\n",
              "        vertical-align: top;\n",
              "    }\n",
              "\n",
              "    .dataframe thead th {\n",
              "        text-align: right;\n",
              "    }\n",
              "</style>\n",
              "<table border=\"1\" class=\"dataframe\">\n",
              "  <thead>\n",
              "    <tr style=\"text-align: right;\">\n",
              "      <th></th>\n",
              "      <th>cargo</th>\n",
              "      <th>idade</th>\n",
              "      <th>salario</th>\n",
              "      <th>bonus</th>\n",
              "      <th>sócio</th>\n",
              "    </tr>\n",
              "  </thead>\n",
              "  <tbody>\n",
              "    <tr>\n",
              "      <th>0</th>\n",
              "      <td>Diretor</td>\n",
              "      <td>45</td>\n",
              "      <td>24000.0</td>\n",
              "      <td>10000.0</td>\n",
              "      <td>sim</td>\n",
              "    </tr>\n",
              "    <tr>\n",
              "      <th>1</th>\n",
              "      <td>Analista</td>\n",
              "      <td>22</td>\n",
              "      <td>8000.0</td>\n",
              "      <td>2000.0</td>\n",
              "      <td>não</td>\n",
              "    </tr>\n",
              "    <tr>\n",
              "      <th>2</th>\n",
              "      <td>Programador</td>\n",
              "      <td>30</td>\n",
              "      <td>NaN</td>\n",
              "      <td>1000.0</td>\n",
              "      <td>não</td>\n",
              "    </tr>\n",
              "    <tr>\n",
              "      <th>3</th>\n",
              "      <td>Gerente</td>\n",
              "      <td>24</td>\n",
              "      <td>15100.0</td>\n",
              "      <td>NaN</td>\n",
              "      <td>não</td>\n",
              "    </tr>\n",
              "    <tr>\n",
              "      <th>4</th>\n",
              "      <td>Gerente</td>\n",
              "      <td>30</td>\n",
              "      <td>35000.0</td>\n",
              "      <td>6000.0</td>\n",
              "      <td>sim</td>\n",
              "    </tr>\n",
              "    <tr>\n",
              "      <th>5</th>\n",
              "      <td>Programador</td>\n",
              "      <td>22</td>\n",
              "      <td>5300.0</td>\n",
              "      <td>2000.0</td>\n",
              "      <td>não</td>\n",
              "    </tr>\n",
              "    <tr>\n",
              "      <th>6</th>\n",
              "      <td>Analista</td>\n",
              "      <td>20</td>\n",
              "      <td>NaN</td>\n",
              "      <td>1200.0</td>\n",
              "      <td>não</td>\n",
              "    </tr>\n",
              "    <tr>\n",
              "      <th>7</th>\n",
              "      <td>Diretor</td>\n",
              "      <td>50</td>\n",
              "      <td>18000.0</td>\n",
              "      <td>8000.0</td>\n",
              "      <td>sim</td>\n",
              "    </tr>\n",
              "    <tr>\n",
              "      <th>8</th>\n",
              "      <td>Fundador</td>\n",
              "      <td>65</td>\n",
              "      <td>38000.0</td>\n",
              "      <td>28000.0</td>\n",
              "      <td>sim</td>\n",
              "    </tr>\n",
              "    <tr>\n",
              "      <th>9</th>\n",
              "      <td>Analista</td>\n",
              "      <td>32</td>\n",
              "      <td>7300.0</td>\n",
              "      <td>4000.0</td>\n",
              "      <td>não</td>\n",
              "    </tr>\n",
              "    <tr>\n",
              "      <th>10</th>\n",
              "      <td>Programador</td>\n",
              "      <td>35</td>\n",
              "      <td>2344.0</td>\n",
              "      <td>NaN</td>\n",
              "      <td>não</td>\n",
              "    </tr>\n",
              "    <tr>\n",
              "      <th>11</th>\n",
              "      <td>Programador</td>\n",
              "      <td>28</td>\n",
              "      <td>4500.0</td>\n",
              "      <td>2200.0</td>\n",
              "      <td>não</td>\n",
              "    </tr>\n",
              "    <tr>\n",
              "      <th>12</th>\n",
              "      <td>Fundador</td>\n",
              "      <td>28</td>\n",
              "      <td>30000.0</td>\n",
              "      <td>12000.0</td>\n",
              "      <td>sim</td>\n",
              "    </tr>\n",
              "    <tr>\n",
              "      <th>13</th>\n",
              "      <td>Programador</td>\n",
              "      <td>30</td>\n",
              "      <td>14000.0</td>\n",
              "      <td>10000.0</td>\n",
              "      <td>sim</td>\n",
              "    </tr>\n",
              "  </tbody>\n",
              "</table>\n",
              "</div>"
            ],
            "text/plain": [
              "          cargo  idade  salario    bonus sócio\n",
              "0       Diretor     45  24000.0  10000.0   sim\n",
              "1      Analista     22   8000.0   2000.0   não\n",
              "2   Programador     30      NaN   1000.0   não\n",
              "3       Gerente     24  15100.0      NaN   não\n",
              "4       Gerente     30  35000.0   6000.0   sim\n",
              "5   Programador     22   5300.0   2000.0   não\n",
              "6      Analista     20      NaN   1200.0   não\n",
              "7       Diretor     50  18000.0   8000.0   sim\n",
              "8      Fundador     65  38000.0  28000.0   sim\n",
              "9      Analista     32   7300.0   4000.0   não\n",
              "10  Programador     35   2344.0      NaN   não\n",
              "11  Programador     28   4500.0   2200.0   não\n",
              "12     Fundador     28  30000.0  12000.0   sim\n",
              "13  Programador     30  14000.0  10000.0   sim"
            ]
          },
          "metadata": {},
          "execution_count": 133
        }
      ]
    },
    {
      "cell_type": "code",
      "metadata": {
        "id": "po_H7VRRt1_G"
      },
      "source": [
        "# Separando os dados em um conjunto de atributos que serão usados como variáveis de input: \n",
        "# cargo, idade, salário e bônus e separar a variável resultante: sócio.\n",
        "X = dataset.iloc[:, :-1].values # cargo, idade, salário e bônus\n",
        "Y = dataset.iloc[:, 4].values # sócio"
      ],
      "execution_count": 134,
      "outputs": []
    },
    {
      "cell_type": "markdown",
      "metadata": {
        "id": "4ue_XgIbu1x1"
      },
      "source": [
        "# Tratando dados faltantes"
      ]
    },
    {
      "cell_type": "markdown",
      "metadata": {
        "id": "WG-MZN4r6ZVq"
      },
      "source": [
        "Para saber qual colunas possuem valores do tipo NaN. "
      ]
    },
    {
      "cell_type": "code",
      "metadata": {
        "colab": {
          "base_uri": "https://localhost:8080/"
        },
        "id": "cnfOR0Fw6ShI",
        "outputId": "7f024252-df96-4fba-d0b5-a597f3f8de3c"
      },
      "source": [
        "dataset.isnull().sum()"
      ],
      "execution_count": null,
      "outputs": [
        {
          "output_type": "execute_result",
          "data": {
            "text/plain": [
              "cargo      0\n",
              "idade      0\n",
              "salario    2\n",
              "bonus      2\n",
              "sócio      0\n",
              "dtype: int64"
            ]
          },
          "metadata": {},
          "execution_count": 46
        }
      ]
    },
    {
      "cell_type": "markdown",
      "metadata": {
        "id": "BRTRAFqk7orp"
      },
      "source": [
        "Obs: O registro 0 não é considerado um valor ausente."
      ]
    },
    {
      "cell_type": "markdown",
      "metadata": {
        "id": "F7bNrRiu7tQ_"
      },
      "source": [
        "Para substituir os valores igual 0 por NaN:"
      ]
    },
    {
      "cell_type": "code",
      "metadata": {
        "id": "qsp6ggR27psg"
      },
      "source": [
        "dataset = dataset[['cargo', 'idade', 'salario', 'bonus', 'sócio']].replace(0,np.NAN)"
      ],
      "execution_count": null,
      "outputs": []
    },
    {
      "cell_type": "markdown",
      "metadata": {
        "id": "Se2MbTiBvPD-"
      },
      "source": [
        "## Deletando colunas"
      ]
    },
    {
      "cell_type": "code",
      "metadata": {
        "id": "gqe9Xc7mt9y3"
      },
      "source": [
        "#dataset.dropna(axis=1, inplace=True) "
      ],
      "execution_count": null,
      "outputs": []
    },
    {
      "cell_type": "code",
      "metadata": {
        "id": "gPJDHSz_vajg"
      },
      "source": [
        "# Recomendado para tratar de colunas que não tem valores relevantes para o dataset axis = n, \n",
        "# com n = 1, 2, 3, ... para dizer que queremos deletar a coluna e inplace = True para \n",
        "# aplicarmos no dataset e não criarmos uma cópia"
      ],
      "execution_count": null,
      "outputs": []
    },
    {
      "cell_type": "code",
      "metadata": {
        "colab": {
          "base_uri": "https://localhost:8080/",
          "height": 206
        },
        "id": "4q4RfV39vwkx",
        "outputId": "187ee3aa-2bf7-4428-e730-781aa1d2df7e"
      },
      "source": [
        "dataset.head()"
      ],
      "execution_count": null,
      "outputs": [
        {
          "output_type": "execute_result",
          "data": {
            "text/html": [
              "<div>\n",
              "<style scoped>\n",
              "    .dataframe tbody tr th:only-of-type {\n",
              "        vertical-align: middle;\n",
              "    }\n",
              "\n",
              "    .dataframe tbody tr th {\n",
              "        vertical-align: top;\n",
              "    }\n",
              "\n",
              "    .dataframe thead th {\n",
              "        text-align: right;\n",
              "    }\n",
              "</style>\n",
              "<table border=\"1\" class=\"dataframe\">\n",
              "  <thead>\n",
              "    <tr style=\"text-align: right;\">\n",
              "      <th></th>\n",
              "      <th>cargo</th>\n",
              "      <th>idade</th>\n",
              "      <th>salario</th>\n",
              "      <th>bonus</th>\n",
              "      <th>sócio</th>\n",
              "    </tr>\n",
              "  </thead>\n",
              "  <tbody>\n",
              "    <tr>\n",
              "      <th>0</th>\n",
              "      <td>Diretor</td>\n",
              "      <td>45</td>\n",
              "      <td>24000.0</td>\n",
              "      <td>10000.0</td>\n",
              "      <td>sim</td>\n",
              "    </tr>\n",
              "    <tr>\n",
              "      <th>1</th>\n",
              "      <td>Analista</td>\n",
              "      <td>22</td>\n",
              "      <td>8000.0</td>\n",
              "      <td>2000.0</td>\n",
              "      <td>não</td>\n",
              "    </tr>\n",
              "    <tr>\n",
              "      <th>2</th>\n",
              "      <td>Programador</td>\n",
              "      <td>30</td>\n",
              "      <td>NaN</td>\n",
              "      <td>1000.0</td>\n",
              "      <td>não</td>\n",
              "    </tr>\n",
              "    <tr>\n",
              "      <th>3</th>\n",
              "      <td>Gerente</td>\n",
              "      <td>24</td>\n",
              "      <td>15100.0</td>\n",
              "      <td>NaN</td>\n",
              "      <td>não</td>\n",
              "    </tr>\n",
              "    <tr>\n",
              "      <th>4</th>\n",
              "      <td>Gerente</td>\n",
              "      <td>30</td>\n",
              "      <td>35000.0</td>\n",
              "      <td>6000.0</td>\n",
              "      <td>sim</td>\n",
              "    </tr>\n",
              "  </tbody>\n",
              "</table>\n",
              "</div>"
            ],
            "text/plain": [
              "         cargo  idade  salario    bonus sócio\n",
              "0      Diretor     45  24000.0  10000.0   sim\n",
              "1     Analista     22   8000.0   2000.0   não\n",
              "2  Programador     30      NaN   1000.0   não\n",
              "3      Gerente     24  15100.0      NaN   não\n",
              "4      Gerente     30  35000.0   6000.0   sim"
            ]
          },
          "metadata": {},
          "execution_count": 50
        }
      ]
    },
    {
      "cell_type": "markdown",
      "metadata": {
        "id": "XukwuQi37P8v"
      },
      "source": [
        "## Preenchendo os valores faltantes com valores constantes"
      ]
    },
    {
      "cell_type": "code",
      "metadata": {
        "colab": {
          "base_uri": "https://localhost:8080/",
          "height": 488
        },
        "id": "k6xwWp5B7V9R",
        "outputId": "4b426630-c269-4efc-c574-7a3713f85b62"
      },
      "source": [
        "dataset.fillna(0)"
      ],
      "execution_count": null,
      "outputs": [
        {
          "output_type": "execute_result",
          "data": {
            "text/html": [
              "<div>\n",
              "<style scoped>\n",
              "    .dataframe tbody tr th:only-of-type {\n",
              "        vertical-align: middle;\n",
              "    }\n",
              "\n",
              "    .dataframe tbody tr th {\n",
              "        vertical-align: top;\n",
              "    }\n",
              "\n",
              "    .dataframe thead th {\n",
              "        text-align: right;\n",
              "    }\n",
              "</style>\n",
              "<table border=\"1\" class=\"dataframe\">\n",
              "  <thead>\n",
              "    <tr style=\"text-align: right;\">\n",
              "      <th></th>\n",
              "      <th>cargo</th>\n",
              "      <th>idade</th>\n",
              "      <th>salario</th>\n",
              "      <th>bonus</th>\n",
              "      <th>sócio</th>\n",
              "    </tr>\n",
              "  </thead>\n",
              "  <tbody>\n",
              "    <tr>\n",
              "      <th>0</th>\n",
              "      <td>Diretor</td>\n",
              "      <td>45</td>\n",
              "      <td>24000.0</td>\n",
              "      <td>10000.0</td>\n",
              "      <td>sim</td>\n",
              "    </tr>\n",
              "    <tr>\n",
              "      <th>1</th>\n",
              "      <td>Analista</td>\n",
              "      <td>22</td>\n",
              "      <td>8000.0</td>\n",
              "      <td>2000.0</td>\n",
              "      <td>não</td>\n",
              "    </tr>\n",
              "    <tr>\n",
              "      <th>2</th>\n",
              "      <td>Programador</td>\n",
              "      <td>30</td>\n",
              "      <td>0.0</td>\n",
              "      <td>1000.0</td>\n",
              "      <td>não</td>\n",
              "    </tr>\n",
              "    <tr>\n",
              "      <th>3</th>\n",
              "      <td>Gerente</td>\n",
              "      <td>24</td>\n",
              "      <td>15100.0</td>\n",
              "      <td>0.0</td>\n",
              "      <td>não</td>\n",
              "    </tr>\n",
              "    <tr>\n",
              "      <th>4</th>\n",
              "      <td>Gerente</td>\n",
              "      <td>30</td>\n",
              "      <td>35000.0</td>\n",
              "      <td>6000.0</td>\n",
              "      <td>sim</td>\n",
              "    </tr>\n",
              "    <tr>\n",
              "      <th>5</th>\n",
              "      <td>Programador</td>\n",
              "      <td>22</td>\n",
              "      <td>5300.0</td>\n",
              "      <td>2000.0</td>\n",
              "      <td>não</td>\n",
              "    </tr>\n",
              "    <tr>\n",
              "      <th>6</th>\n",
              "      <td>Analista</td>\n",
              "      <td>20</td>\n",
              "      <td>0.0</td>\n",
              "      <td>1200.0</td>\n",
              "      <td>não</td>\n",
              "    </tr>\n",
              "    <tr>\n",
              "      <th>7</th>\n",
              "      <td>Diretor</td>\n",
              "      <td>50</td>\n",
              "      <td>18000.0</td>\n",
              "      <td>8000.0</td>\n",
              "      <td>sim</td>\n",
              "    </tr>\n",
              "    <tr>\n",
              "      <th>8</th>\n",
              "      <td>Fundador</td>\n",
              "      <td>65</td>\n",
              "      <td>38000.0</td>\n",
              "      <td>28000.0</td>\n",
              "      <td>sim</td>\n",
              "    </tr>\n",
              "    <tr>\n",
              "      <th>9</th>\n",
              "      <td>Analista</td>\n",
              "      <td>32</td>\n",
              "      <td>7300.0</td>\n",
              "      <td>4000.0</td>\n",
              "      <td>não</td>\n",
              "    </tr>\n",
              "    <tr>\n",
              "      <th>10</th>\n",
              "      <td>Programador</td>\n",
              "      <td>35</td>\n",
              "      <td>2344.0</td>\n",
              "      <td>0.0</td>\n",
              "      <td>não</td>\n",
              "    </tr>\n",
              "    <tr>\n",
              "      <th>11</th>\n",
              "      <td>Programador</td>\n",
              "      <td>28</td>\n",
              "      <td>4500.0</td>\n",
              "      <td>2200.0</td>\n",
              "      <td>não</td>\n",
              "    </tr>\n",
              "    <tr>\n",
              "      <th>12</th>\n",
              "      <td>Fundador</td>\n",
              "      <td>28</td>\n",
              "      <td>30000.0</td>\n",
              "      <td>12000.0</td>\n",
              "      <td>sim</td>\n",
              "    </tr>\n",
              "    <tr>\n",
              "      <th>13</th>\n",
              "      <td>Programador</td>\n",
              "      <td>30</td>\n",
              "      <td>14000.0</td>\n",
              "      <td>10000.0</td>\n",
              "      <td>sim</td>\n",
              "    </tr>\n",
              "  </tbody>\n",
              "</table>\n",
              "</div>"
            ],
            "text/plain": [
              "          cargo  idade  salario    bonus sócio\n",
              "0       Diretor     45  24000.0  10000.0   sim\n",
              "1      Analista     22   8000.0   2000.0   não\n",
              "2   Programador     30      0.0   1000.0   não\n",
              "3       Gerente     24  15100.0      0.0   não\n",
              "4       Gerente     30  35000.0   6000.0   sim\n",
              "5   Programador     22   5300.0   2000.0   não\n",
              "6      Analista     20      0.0   1200.0   não\n",
              "7       Diretor     50  18000.0   8000.0   sim\n",
              "8      Fundador     65  38000.0  28000.0   sim\n",
              "9      Analista     32   7300.0   4000.0   não\n",
              "10  Programador     35   2344.0      0.0   não\n",
              "11  Programador     28   4500.0   2200.0   não\n",
              "12     Fundador     28  30000.0  12000.0   sim\n",
              "13  Programador     30  14000.0  10000.0   sim"
            ]
          },
          "metadata": {},
          "execution_count": 51
        }
      ]
    },
    {
      "cell_type": "markdown",
      "metadata": {
        "id": "x_LOFgEN8YTc"
      },
      "source": [
        "caso seja apenas uma coluna"
      ]
    },
    {
      "cell_type": "code",
      "metadata": {
        "colab": {
          "base_uri": "https://localhost:8080/"
        },
        "id": "9A0-e9K77Vzh",
        "outputId": "cb2e5560-5e74-4469-a97f-7f5b57c419e1"
      },
      "source": [
        "dataset['salario'].fillna(1)"
      ],
      "execution_count": null,
      "outputs": [
        {
          "output_type": "execute_result",
          "data": {
            "text/plain": [
              "0     24000.0\n",
              "1      8000.0\n",
              "2         1.0\n",
              "3     15100.0\n",
              "4     35000.0\n",
              "5      5300.0\n",
              "6         1.0\n",
              "7     18000.0\n",
              "8     38000.0\n",
              "9      7300.0\n",
              "10     2344.0\n",
              "11     4500.0\n",
              "12    30000.0\n",
              "13    14000.0\n",
              "Name: salario, dtype: float64"
            ]
          },
          "metadata": {},
          "execution_count": 52
        }
      ]
    },
    {
      "cell_type": "markdown",
      "metadata": {
        "id": "4WKoD-_TzkPA"
      },
      "source": [
        "## Preenchendo valores que faltam com a média, moda e mediana dos valores da coluna "
      ]
    },
    {
      "cell_type": "markdown",
      "metadata": {
        "id": "RE6wLtfZBbwo"
      },
      "source": [
        "Para substituir a coluna pela versão escolhida, basta fazer:"
      ]
    },
    {
      "cell_type": "code",
      "metadata": {
        "colab": {
          "base_uri": "https://localhost:8080/",
          "height": 131
        },
        "id": "LuWeOYkuBgyC",
        "outputId": "62fbdd32-fa95-4bf5-a68e-727013a679fc"
      },
      "source": [
        "dataset['salario'] = #Segunda linha do Média, Moda ou Mediana   "
      ],
      "execution_count": null,
      "outputs": [
        {
          "output_type": "error",
          "ename": "SyntaxError",
          "evalue": "ignored",
          "traceback": [
            "\u001b[0;36m  File \u001b[0;32m\"<ipython-input-53-eda19acb230e>\"\u001b[0;36m, line \u001b[0;32m1\u001b[0m\n\u001b[0;31m    dataset['salario'] = #Segunda linha do Média, Moda ou Mediana\u001b[0m\n\u001b[0m                                                                    ^\u001b[0m\n\u001b[0;31mSyntaxError\u001b[0m\u001b[0;31m:\u001b[0m invalid syntax\n"
          ]
        }
      ]
    },
    {
      "cell_type": "markdown",
      "metadata": {
        "id": "NQZhY0itBPsE"
      },
      "source": [
        "#### Média"
      ]
    },
    {
      "cell_type": "code",
      "metadata": {
        "colab": {
          "base_uri": "https://localhost:8080/"
        },
        "id": "pq_XfY4O9F4p",
        "outputId": "8730eb07-8c18-429c-dc5f-8bff27641a86"
      },
      "source": [
        "media = dataset['salario'].mean()\n",
        "print(media)"
      ],
      "execution_count": null,
      "outputs": [
        {
          "output_type": "stream",
          "name": "stdout",
          "text": [
            "16795.333333333332\n"
          ]
        }
      ]
    },
    {
      "cell_type": "code",
      "metadata": {
        "colab": {
          "base_uri": "https://localhost:8080/"
        },
        "id": "fHPjzoKX9F2P",
        "outputId": "a0a81baa-5265-4c77-b48d-224f6177028e"
      },
      "source": [
        "dataset['salario'].fillna(media).head()"
      ],
      "execution_count": null,
      "outputs": [
        {
          "output_type": "execute_result",
          "data": {
            "text/plain": [
              "0    24000.000000\n",
              "1     8000.000000\n",
              "2    16795.333333\n",
              "3    15100.000000\n",
              "4    35000.000000\n",
              "Name: salario, dtype: float64"
            ]
          },
          "metadata": {},
          "execution_count": 55
        }
      ]
    },
    {
      "cell_type": "code",
      "metadata": {
        "id": "telpjRf0BvVx"
      },
      "source": [
        "# dataset['salario'] = dataset['salario'].fillna(media)"
      ],
      "execution_count": null,
      "outputs": []
    },
    {
      "cell_type": "code",
      "metadata": {
        "colab": {
          "base_uri": "https://localhost:8080/",
          "height": 206
        },
        "id": "40Kljb5EB3xa",
        "outputId": "040038d0-bbb2-4120-f36b-954e1bd1c252"
      },
      "source": [
        "dataset.head()"
      ],
      "execution_count": null,
      "outputs": [
        {
          "output_type": "execute_result",
          "data": {
            "text/html": [
              "<div>\n",
              "<style scoped>\n",
              "    .dataframe tbody tr th:only-of-type {\n",
              "        vertical-align: middle;\n",
              "    }\n",
              "\n",
              "    .dataframe tbody tr th {\n",
              "        vertical-align: top;\n",
              "    }\n",
              "\n",
              "    .dataframe thead th {\n",
              "        text-align: right;\n",
              "    }\n",
              "</style>\n",
              "<table border=\"1\" class=\"dataframe\">\n",
              "  <thead>\n",
              "    <tr style=\"text-align: right;\">\n",
              "      <th></th>\n",
              "      <th>cargo</th>\n",
              "      <th>idade</th>\n",
              "      <th>salario</th>\n",
              "      <th>bonus</th>\n",
              "      <th>sócio</th>\n",
              "    </tr>\n",
              "  </thead>\n",
              "  <tbody>\n",
              "    <tr>\n",
              "      <th>0</th>\n",
              "      <td>Diretor</td>\n",
              "      <td>45</td>\n",
              "      <td>24000.0</td>\n",
              "      <td>10000.0</td>\n",
              "      <td>sim</td>\n",
              "    </tr>\n",
              "    <tr>\n",
              "      <th>1</th>\n",
              "      <td>Analista</td>\n",
              "      <td>22</td>\n",
              "      <td>8000.0</td>\n",
              "      <td>2000.0</td>\n",
              "      <td>não</td>\n",
              "    </tr>\n",
              "    <tr>\n",
              "      <th>2</th>\n",
              "      <td>Programador</td>\n",
              "      <td>30</td>\n",
              "      <td>NaN</td>\n",
              "      <td>1000.0</td>\n",
              "      <td>não</td>\n",
              "    </tr>\n",
              "    <tr>\n",
              "      <th>3</th>\n",
              "      <td>Gerente</td>\n",
              "      <td>24</td>\n",
              "      <td>15100.0</td>\n",
              "      <td>NaN</td>\n",
              "      <td>não</td>\n",
              "    </tr>\n",
              "    <tr>\n",
              "      <th>4</th>\n",
              "      <td>Gerente</td>\n",
              "      <td>30</td>\n",
              "      <td>35000.0</td>\n",
              "      <td>6000.0</td>\n",
              "      <td>sim</td>\n",
              "    </tr>\n",
              "  </tbody>\n",
              "</table>\n",
              "</div>"
            ],
            "text/plain": [
              "         cargo  idade  salario    bonus sócio\n",
              "0      Diretor     45  24000.0  10000.0   sim\n",
              "1     Analista     22   8000.0   2000.0   não\n",
              "2  Programador     30      NaN   1000.0   não\n",
              "3      Gerente     24  15100.0      NaN   não\n",
              "4      Gerente     30  35000.0   6000.0   sim"
            ]
          },
          "metadata": {},
          "execution_count": 57
        }
      ]
    },
    {
      "cell_type": "markdown",
      "metadata": {
        "id": "oO4ddVzzBVix"
      },
      "source": [
        "#### Moda"
      ]
    },
    {
      "cell_type": "code",
      "metadata": {
        "colab": {
          "base_uri": "https://localhost:8080/"
        },
        "id": "vmvOk1Fo9Fzp",
        "outputId": "96c0b9dd-4d2b-49f7-b75e-18e3264f424e"
      },
      "source": [
        "moda = dataset['salario'].mode()\n",
        "print(moda)"
      ],
      "execution_count": null,
      "outputs": [
        {
          "output_type": "stream",
          "name": "stdout",
          "text": [
            "0      2344.0\n",
            "1      4500.0\n",
            "2      5300.0\n",
            "3      7300.0\n",
            "4      8000.0\n",
            "5     14000.0\n",
            "6     15100.0\n",
            "7     18000.0\n",
            "8     24000.0\n",
            "9     30000.0\n",
            "10    35000.0\n",
            "11    38000.0\n",
            "dtype: float64\n"
          ]
        }
      ]
    },
    {
      "cell_type": "code",
      "metadata": {
        "colab": {
          "base_uri": "https://localhost:8080/"
        },
        "id": "bGHli2JzCR8Z",
        "outputId": "f2cca8e6-6585-4c41-8fbf-55bd333f81fd"
      },
      "source": [
        "dataset['salario'].fillna(moda).head()"
      ],
      "execution_count": null,
      "outputs": [
        {
          "output_type": "execute_result",
          "data": {
            "text/plain": [
              "0    24000.0\n",
              "1     8000.0\n",
              "2     5300.0\n",
              "3    15100.0\n",
              "4    35000.0\n",
              "Name: salario, dtype: float64"
            ]
          },
          "metadata": {},
          "execution_count": 59
        }
      ]
    },
    {
      "cell_type": "markdown",
      "metadata": {
        "id": "DQFfIYOzBXoH"
      },
      "source": [
        "#### Mediana"
      ]
    },
    {
      "cell_type": "code",
      "metadata": {
        "colab": {
          "base_uri": "https://localhost:8080/"
        },
        "id": "dvOVHbLI9Fqh",
        "outputId": "6b1a32be-230e-4ec8-885d-89de75f91c17"
      },
      "source": [
        "mediana = dataset['salario'].median()\n",
        "print(mediana)"
      ],
      "execution_count": null,
      "outputs": [
        {
          "output_type": "stream",
          "name": "stdout",
          "text": [
            "14550.0\n"
          ]
        }
      ]
    },
    {
      "cell_type": "code",
      "metadata": {
        "colab": {
          "base_uri": "https://localhost:8080/"
        },
        "id": "_WGhx2m6BIzx",
        "outputId": "b124c956-97bd-40a3-f323-a0299211266d"
      },
      "source": [
        "dataset['salario'].fillna(mediana).head()"
      ],
      "execution_count": null,
      "outputs": [
        {
          "output_type": "execute_result",
          "data": {
            "text/plain": [
              "0    24000.0\n",
              "1     8000.0\n",
              "2    14550.0\n",
              "3    15100.0\n",
              "4    35000.0\n",
              "Name: salario, dtype: float64"
            ]
          },
          "metadata": {},
          "execution_count": 61
        }
      ]
    },
    {
      "cell_type": "markdown",
      "metadata": {
        "id": "LzC86XMz9BED"
      },
      "source": [
        "### Preenchendo os valores que faltam com a média, moda usando o Imputer"
      ]
    },
    {
      "cell_type": "code",
      "metadata": {
        "id": "QJsRnHge0HPI"
      },
      "source": [
        "from sklearn.impute import SimpleImputer"
      ],
      "execution_count": null,
      "outputs": []
    },
    {
      "cell_type": "code",
      "metadata": {
        "id": "wIAfkb9MzzFg"
      },
      "source": [
        "imputer = SimpleImputer(missing_values=np.nan, strategy=\"mean\")"
      ],
      "execution_count": null,
      "outputs": []
    },
    {
      "cell_type": "markdown",
      "metadata": {
        "id": "o1NmnW132vbJ"
      },
      "source": [
        "vamos aplicar o método fit do imputer apenas nas colunas com dados faltantes e criando e colocando esses valores em uma coluna nova"
      ]
    },
    {
      "cell_type": "code",
      "metadata": {
        "id": "1aqDDjuf1f4_"
      },
      "source": [
        "# dataset['salario2'] = imputer.fit_transform(dataset[['salario']])"
      ],
      "execution_count": null,
      "outputs": []
    },
    {
      "cell_type": "code",
      "metadata": {
        "id": "kLcM4B6O23YP"
      },
      "source": [
        "# dataset[['salario', 'salario2']].head()"
      ],
      "execution_count": null,
      "outputs": []
    },
    {
      "cell_type": "markdown",
      "metadata": {
        "id": "-OZv7aWxDlYx"
      },
      "source": [
        "Se “mean”, substitui os valores ausentes usando a média ao longo de cada coluna. Só pode ser usado com dados numéricos.\n",
        "\n",
        "Se “median”, substitui os valores ausentes usando a mediana em cada coluna. Só pode ser usado com dados numéricos.\n",
        "\n",
        "Se “most_frequent”, substitui os valores ausentes usando o valor mais frequente em cada coluna. Pode ser usado com strings ou dados numéricos.\n",
        "\n",
        "Se “constant”, substitui os valores ausentes por fill_value. Pode ser usado com strings ou dados numéricos."
      ]
    },
    {
      "cell_type": "markdown",
      "metadata": {
        "id": "pM1Ph5ogGBnM"
      },
      "source": [
        "# Variaveis Categoricas"
      ]
    },
    {
      "cell_type": "markdown",
      "metadata": {
        "id": "CQMex6DvGibT"
      },
      "source": [
        "No nosso dataset temos apenas a coluna dos cargos contendo variaveis categóricas que são as variaveis nominais, sem escalas e não numéricas."
      ]
    },
    {
      "cell_type": "markdown",
      "metadata": {
        "id": "7lza9_Y2HRdL"
      },
      "source": [
        "Uma ideia para tratar esse problema é utilizar a classe LabelEncoder do sklearn para transformar os nomes em números (diretor: 0, analista: 1, gerente: 2, programador: 3 e fundador: 4) "
      ]
    },
    {
      "cell_type": "code",
      "metadata": {
        "id": "sNpWxiFLF90C"
      },
      "source": [
        "from sklearn.preprocessing import LabelEncoder"
      ],
      "execution_count": null,
      "outputs": []
    },
    {
      "cell_type": "markdown",
      "metadata": {
        "id": "BGk_Pi1HHW9C"
      },
      "source": [
        "objeto do LabelEncoder e fazer fit_tranform apenas para a nossa coluna com valores categóricos:"
      ]
    },
    {
      "cell_type": "code",
      "metadata": {
        "colab": {
          "base_uri": "https://localhost:8080/"
        },
        "id": "29XndYzzGAGa",
        "outputId": "cf22aace-6195-4107-8d74-b55daad7e387"
      },
      "source": [
        "labelencoder_X = LabelEncoder()\n",
        "X[:, 0] = labelencoder_X.fit_transform(X[:, 0])\n",
        "print(X)"
      ],
      "execution_count": null,
      "outputs": [
        {
          "output_type": "stream",
          "name": "stdout",
          "text": [
            "[[1 45 24000.0 10000.0]\n",
            " [0 22 8000.0 2000.0]\n",
            " [4 30 nan 1000.0]\n",
            " [3 24 15100.0 nan]\n",
            " [3 30 35000.0 6000.0]\n",
            " [4 22 5300.0 2000.0]\n",
            " [0 20 nan 1200.0]\n",
            " [1 50 18000.0 8000.0]\n",
            " [2 65 38000.0 28000.0]\n",
            " [0 32 7300.0 4000.0]\n",
            " [4 35 2344.0 nan]\n",
            " [4 28 4500.0 2200.0]\n",
            " [2 28 30000.0 12000.0]\n",
            " [4 30 14000.0 10000.0]]\n"
          ]
        }
      ]
    },
    {
      "cell_type": "markdown",
      "metadata": {
        "id": "tAQt13TjIVPC"
      },
      "source": [
        "# Reescalar Dados"
      ]
    },
    {
      "cell_type": "markdown",
      "metadata": {
        "id": "gGPvaZmUKa8r"
      },
      "source": [
        "Para resolver problemas com falta de escala dos dados contidos no dataset"
      ]
    },
    {
      "cell_type": "markdown",
      "metadata": {
        "id": "LVVwFmWgLd7K"
      },
      "source": [
        "## Normalizer"
      ]
    },
    {
      "cell_type": "markdown",
      "metadata": {
        "id": "_YEJcbPELiNT"
      },
      "source": [
        "O Normalize age reescalando os dados por exemplos/linhas e não por colunas, ou seja, o Normalizer, neste caso, levará em contas os atributos idade, salário e bonus e reescalar os valores com base nesses três valores.\n",
        "\n",
        "\n",
        "> ***O Normalizer é uma boa escolha quando você sabe que a distribuição dos seus dados não é normal/gaussiana ou quando você não sabe qual é o tipo de distribuição dos seus dados.***\n",
        "\n"
      ]
    },
    {
      "cell_type": "code",
      "metadata": {
        "id": "-HbOdFAdMP_U"
      },
      "source": [
        "from sklearn.preprocessing import Normalizer"
      ],
      "execution_count": 135,
      "outputs": []
    },
    {
      "cell_type": "code",
      "metadata": {
        "colab": {
          "base_uri": "https://localhost:8080/",
          "height": 206
        },
        "id": "9-B1O7L9NQwj",
        "outputId": "788f0cc8-fd85-4824-d605-40729749aead"
      },
      "source": [
        "dataset['salario'] = imputer.fit_transform(dataset[['salario']])\n",
        "dataset['bonus'] = imputer.fit_transform(dataset[['bonus']])\n",
        "dataset.head()"
      ],
      "execution_count": 136,
      "outputs": [
        {
          "output_type": "execute_result",
          "data": {
            "text/html": [
              "<div>\n",
              "<style scoped>\n",
              "    .dataframe tbody tr th:only-of-type {\n",
              "        vertical-align: middle;\n",
              "    }\n",
              "\n",
              "    .dataframe tbody tr th {\n",
              "        vertical-align: top;\n",
              "    }\n",
              "\n",
              "    .dataframe thead th {\n",
              "        text-align: right;\n",
              "    }\n",
              "</style>\n",
              "<table border=\"1\" class=\"dataframe\">\n",
              "  <thead>\n",
              "    <tr style=\"text-align: right;\">\n",
              "      <th></th>\n",
              "      <th>cargo</th>\n",
              "      <th>idade</th>\n",
              "      <th>salario</th>\n",
              "      <th>bonus</th>\n",
              "      <th>sócio</th>\n",
              "    </tr>\n",
              "  </thead>\n",
              "  <tbody>\n",
              "    <tr>\n",
              "      <th>0</th>\n",
              "      <td>Diretor</td>\n",
              "      <td>45</td>\n",
              "      <td>24000.000000</td>\n",
              "      <td>10000.0</td>\n",
              "      <td>sim</td>\n",
              "    </tr>\n",
              "    <tr>\n",
              "      <th>1</th>\n",
              "      <td>Analista</td>\n",
              "      <td>22</td>\n",
              "      <td>8000.000000</td>\n",
              "      <td>2000.0</td>\n",
              "      <td>não</td>\n",
              "    </tr>\n",
              "    <tr>\n",
              "      <th>2</th>\n",
              "      <td>Programador</td>\n",
              "      <td>30</td>\n",
              "      <td>16795.333333</td>\n",
              "      <td>1000.0</td>\n",
              "      <td>não</td>\n",
              "    </tr>\n",
              "    <tr>\n",
              "      <th>3</th>\n",
              "      <td>Gerente</td>\n",
              "      <td>24</td>\n",
              "      <td>15100.000000</td>\n",
              "      <td>7200.0</td>\n",
              "      <td>não</td>\n",
              "    </tr>\n",
              "    <tr>\n",
              "      <th>4</th>\n",
              "      <td>Gerente</td>\n",
              "      <td>30</td>\n",
              "      <td>35000.000000</td>\n",
              "      <td>6000.0</td>\n",
              "      <td>sim</td>\n",
              "    </tr>\n",
              "  </tbody>\n",
              "</table>\n",
              "</div>"
            ],
            "text/plain": [
              "         cargo  idade       salario    bonus sócio\n",
              "0      Diretor     45  24000.000000  10000.0   sim\n",
              "1     Analista     22   8000.000000   2000.0   não\n",
              "2  Programador     30  16795.333333   1000.0   não\n",
              "3      Gerente     24  15100.000000   7200.0   não\n",
              "4      Gerente     30  35000.000000   6000.0   sim"
            ]
          },
          "metadata": {},
          "execution_count": 136
        }
      ]
    },
    {
      "cell_type": "code",
      "metadata": {
        "colab": {
          "base_uri": "https://localhost:8080/",
          "height": 206
        },
        "id": "okuCtowmWpcL",
        "outputId": "2cb161f2-970e-462d-a41c-0ea6d891af94"
      },
      "source": [
        "X = pd.DataFrame(X)\n",
        "X.head()"
      ],
      "execution_count": 138,
      "outputs": [
        {
          "output_type": "execute_result",
          "data": {
            "text/html": [
              "<div>\n",
              "<style scoped>\n",
              "    .dataframe tbody tr th:only-of-type {\n",
              "        vertical-align: middle;\n",
              "    }\n",
              "\n",
              "    .dataframe tbody tr th {\n",
              "        vertical-align: top;\n",
              "    }\n",
              "\n",
              "    .dataframe thead th {\n",
              "        text-align: right;\n",
              "    }\n",
              "</style>\n",
              "<table border=\"1\" class=\"dataframe\">\n",
              "  <thead>\n",
              "    <tr style=\"text-align: right;\">\n",
              "      <th></th>\n",
              "      <th>0</th>\n",
              "      <th>1</th>\n",
              "      <th>2</th>\n",
              "      <th>3</th>\n",
              "    </tr>\n",
              "  </thead>\n",
              "  <tbody>\n",
              "    <tr>\n",
              "      <th>0</th>\n",
              "      <td>Diretor</td>\n",
              "      <td>45</td>\n",
              "      <td>24000</td>\n",
              "      <td>10000</td>\n",
              "    </tr>\n",
              "    <tr>\n",
              "      <th>1</th>\n",
              "      <td>Analista</td>\n",
              "      <td>22</td>\n",
              "      <td>8000</td>\n",
              "      <td>2000</td>\n",
              "    </tr>\n",
              "    <tr>\n",
              "      <th>2</th>\n",
              "      <td>Programador</td>\n",
              "      <td>30</td>\n",
              "      <td>NaN</td>\n",
              "      <td>1000</td>\n",
              "    </tr>\n",
              "    <tr>\n",
              "      <th>3</th>\n",
              "      <td>Gerente</td>\n",
              "      <td>24</td>\n",
              "      <td>15100</td>\n",
              "      <td>NaN</td>\n",
              "    </tr>\n",
              "    <tr>\n",
              "      <th>4</th>\n",
              "      <td>Gerente</td>\n",
              "      <td>30</td>\n",
              "      <td>35000</td>\n",
              "      <td>6000</td>\n",
              "    </tr>\n",
              "  </tbody>\n",
              "</table>\n",
              "</div>"
            ],
            "text/plain": [
              "             0   1      2      3\n",
              "0      Diretor  45  24000  10000\n",
              "1     Analista  22   8000   2000\n",
              "2  Programador  30    NaN   1000\n",
              "3      Gerente  24  15100    NaN\n",
              "4      Gerente  30  35000   6000"
            ]
          },
          "metadata": {},
          "execution_count": 138
        }
      ]
    },
    {
      "cell_type": "code",
      "metadata": {
        "colab": {
          "base_uri": "https://localhost:8080/",
          "height": 206
        },
        "id": "aZ1g8XJ2W3Qx",
        "outputId": "b23ff05e-1d73-4395-e937-8ff4dc417621"
      },
      "source": [
        "X[2] = imputer.fit_transform(X[[2]])\n",
        "X[3] = imputer.fit_transform(X[[3]])\n",
        "X.head()"
      ],
      "execution_count": 140,
      "outputs": [
        {
          "output_type": "execute_result",
          "data": {
            "text/html": [
              "<div>\n",
              "<style scoped>\n",
              "    .dataframe tbody tr th:only-of-type {\n",
              "        vertical-align: middle;\n",
              "    }\n",
              "\n",
              "    .dataframe tbody tr th {\n",
              "        vertical-align: top;\n",
              "    }\n",
              "\n",
              "    .dataframe thead th {\n",
              "        text-align: right;\n",
              "    }\n",
              "</style>\n",
              "<table border=\"1\" class=\"dataframe\">\n",
              "  <thead>\n",
              "    <tr style=\"text-align: right;\">\n",
              "      <th></th>\n",
              "      <th>0</th>\n",
              "      <th>1</th>\n",
              "      <th>2</th>\n",
              "      <th>3</th>\n",
              "    </tr>\n",
              "  </thead>\n",
              "  <tbody>\n",
              "    <tr>\n",
              "      <th>0</th>\n",
              "      <td>Diretor</td>\n",
              "      <td>45</td>\n",
              "      <td>24000.000000</td>\n",
              "      <td>10000.0</td>\n",
              "    </tr>\n",
              "    <tr>\n",
              "      <th>1</th>\n",
              "      <td>Analista</td>\n",
              "      <td>22</td>\n",
              "      <td>8000.000000</td>\n",
              "      <td>2000.0</td>\n",
              "    </tr>\n",
              "    <tr>\n",
              "      <th>2</th>\n",
              "      <td>Programador</td>\n",
              "      <td>30</td>\n",
              "      <td>16795.333333</td>\n",
              "      <td>1000.0</td>\n",
              "    </tr>\n",
              "    <tr>\n",
              "      <th>3</th>\n",
              "      <td>Gerente</td>\n",
              "      <td>24</td>\n",
              "      <td>15100.000000</td>\n",
              "      <td>7200.0</td>\n",
              "    </tr>\n",
              "    <tr>\n",
              "      <th>4</th>\n",
              "      <td>Gerente</td>\n",
              "      <td>30</td>\n",
              "      <td>35000.000000</td>\n",
              "      <td>6000.0</td>\n",
              "    </tr>\n",
              "  </tbody>\n",
              "</table>\n",
              "</div>"
            ],
            "text/plain": [
              "             0   1             2        3\n",
              "0      Diretor  45  24000.000000  10000.0\n",
              "1     Analista  22   8000.000000   2000.0\n",
              "2  Programador  30  16795.333333   1000.0\n",
              "3      Gerente  24  15100.000000   7200.0\n",
              "4      Gerente  30  35000.000000   6000.0"
            ]
          },
          "metadata": {},
          "execution_count": 140
        }
      ]
    },
    {
      "cell_type": "code",
      "metadata": {
        "id": "dIipgqUWW2iZ"
      },
      "source": [
        "# X_array = X.to_numpy\n",
        "# print(X_array)\n",
        "# print(             )\n",
        "# print(type(X_array))"
      ],
      "execution_count": null,
      "outputs": []
    },
    {
      "cell_type": "markdown",
      "metadata": {
        "id": "-u4PXi8ude8a"
      },
      "source": [
        "Preciso recortar do DataFrame só as colunas numéricas e aplicar no normalize"
      ]
    },
    {
      "cell_type": "code",
      "metadata": {
        "id": "ScQ7DnJkSrLU"
      },
      "source": [
        "#X = X[:, 1:]\n",
        "#X = pd.DataFrame({1:X[:,0], 2:X[:,1], 3:X[:,2]})\n",
        "#print(X)"
      ],
      "execution_count": 144,
      "outputs": []
    },
    {
      "cell_type": "code",
      "metadata": {
        "id": "FYx2YnpQS2Z5"
      },
      "source": [
        "X_normalize = X.copy()\n",
        "X_normalize[[1, 2, 3]] = Normalizer().fit_transform(X[[1 , 2, 3]])"
      ],
      "execution_count": 146,
      "outputs": []
    },
    {
      "cell_type": "code",
      "metadata": {
        "id": "GFmBTOpjMlOQ",
        "colab": {
          "base_uri": "https://localhost:8080/",
          "height": 206
        },
        "outputId": "568a008c-7048-4d6f-c6a5-0c4a843dd669"
      },
      "source": [
        "X_normalize.head()"
      ],
      "execution_count": 149,
      "outputs": [
        {
          "output_type": "execute_result",
          "data": {
            "text/html": [
              "<div>\n",
              "<style scoped>\n",
              "    .dataframe tbody tr th:only-of-type {\n",
              "        vertical-align: middle;\n",
              "    }\n",
              "\n",
              "    .dataframe tbody tr th {\n",
              "        vertical-align: top;\n",
              "    }\n",
              "\n",
              "    .dataframe thead th {\n",
              "        text-align: right;\n",
              "    }\n",
              "</style>\n",
              "<table border=\"1\" class=\"dataframe\">\n",
              "  <thead>\n",
              "    <tr style=\"text-align: right;\">\n",
              "      <th></th>\n",
              "      <th>0</th>\n",
              "      <th>1</th>\n",
              "      <th>2</th>\n",
              "      <th>3</th>\n",
              "    </tr>\n",
              "  </thead>\n",
              "  <tbody>\n",
              "    <tr>\n",
              "      <th>0</th>\n",
              "      <td>Diretor</td>\n",
              "      <td>0.001731</td>\n",
              "      <td>0.923076</td>\n",
              "      <td>0.384615</td>\n",
              "    </tr>\n",
              "    <tr>\n",
              "      <th>1</th>\n",
              "      <td>Analista</td>\n",
              "      <td>0.002668</td>\n",
              "      <td>0.970139</td>\n",
              "      <td>0.242535</td>\n",
              "    </tr>\n",
              "    <tr>\n",
              "      <th>2</th>\n",
              "      <td>Programador</td>\n",
              "      <td>0.001783</td>\n",
              "      <td>0.998231</td>\n",
              "      <td>0.059435</td>\n",
              "    </tr>\n",
              "    <tr>\n",
              "      <th>3</th>\n",
              "      <td>Gerente</td>\n",
              "      <td>0.001435</td>\n",
              "      <td>0.902638</td>\n",
              "      <td>0.430397</td>\n",
              "    </tr>\n",
              "    <tr>\n",
              "      <th>4</th>\n",
              "      <td>Gerente</td>\n",
              "      <td>0.000845</td>\n",
              "      <td>0.985622</td>\n",
              "      <td>0.168964</td>\n",
              "    </tr>\n",
              "  </tbody>\n",
              "</table>\n",
              "</div>"
            ],
            "text/plain": [
              "             0         1         2         3\n",
              "0      Diretor  0.001731  0.923076  0.384615\n",
              "1     Analista  0.002668  0.970139  0.242535\n",
              "2  Programador  0.001783  0.998231  0.059435\n",
              "3      Gerente  0.001435  0.902638  0.430397\n",
              "4      Gerente  0.000845  0.985622  0.168964"
            ]
          },
          "metadata": {},
          "execution_count": 149
        }
      ]
    },
    {
      "cell_type": "code",
      "metadata": {
        "id": "pq5KuXBkpZT-"
      },
      "source": [
        ""
      ],
      "execution_count": null,
      "outputs": []
    }
  ]
}